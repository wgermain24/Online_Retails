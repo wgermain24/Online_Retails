{
 "cells": [
  {
   "cell_type": "markdown",
   "id": "5b5a5d84-ee09-43d2-83e7-e30427d02c71",
   "metadata": {
    "id": "5b5a5d84-ee09-43d2-83e7-e30427d02c71"
   },
   "source": [
    "# 5.0 Predicting LTV - Modeling"
   ]
  },
  {
   "cell_type": "markdown",
   "id": "9ed76ba2-097d-46de-a9e0-f24fb44ba2a3",
   "metadata": {
    "id": "9ed76ba2-097d-46de-a9e0-f24fb44ba2a3"
   },
   "source": [
    "## 5.1 Introduction"
   ]
  },
  {
   "cell_type": "markdown",
   "id": "95ca291a-6b6b-4a53-839d-17b7cb3db868",
   "metadata": {
    "id": "95ca291a-6b6b-4a53-839d-17b7cb3db868"
   },
   "source": [
    "Online Retail, a company specializing in e-commerce, recently invested a substantial portion of its revenue in an advertising campaign to boost brand and product awareness. Despite these efforts, the campaign achieved an acquisition response rate of only 3%, falling short of the anticipated 6%. Management suspects that the campaign's underperformance stemmed from its broad and costly approach, which failed to consider the diverse purchasing behaviors of customers.\n",
    "\n",
    "To improve outcomes, the company intends to focus future marketing efforts on customers most likely to drive revenue growth. With the next campaign scheduled in six months, management seeks to achieve the following objectives:\n",
    "\n",
    "Customer Value Analysis: Assess the commercial value of each customer just before the campaign launch.\n",
    "Customer Segmentation: Develop a segmentation strategy based on purchasing behaviors to identify key customer groups.\n",
    "Marketing Enablement Tool: Equip the Marketing team with a tool to implement and sustain a targeted marketing strategy.\n",
    "The Data Science team has been tasked with leading this project. They will collaborate with the Marketing team responsible for promotions, the Technology team, and a Management Committee representative. Although the company's database contains some data gaps due to past system migrations, it will serve as the foundation for this initiative. The success of this project will be evaluated based on the achievement of the targeted response rate of 6%, a key performance metric set by management.\n",
    "\n",
    "It was produced using information available in the customer database which contains 33 variables for each customer. The approach adopted is:\n",
    " • Retain the 'LTV' column as an explanatory or independent variable\n",
    " • Determine to what extent each of the other variables allows predicting the explanatory variable\n",
    " • Retain the most relevant variables to develop a model based on the regression mode with the smallest absolute error\n",
    "\n",
    "This document is the continuation of Feature engineering.\n",
    "It contains:\n",
    " - analysis of three models and their performance\n",
    " - choice of the model to identify customers likely to churn\n",
    "   "
   ]
  },
  {
   "cell_type": "markdown",
   "id": "5b14c0e9-b15b-4c0b-9372-ff0444eb1e35",
   "metadata": {
    "id": "5b14c0e9-b15b-4c0b-9372-ff0444eb1e35"
   },
   "source": [
    "## 5.2 Import the necessary libraries"
   ]
  },
  {
   "cell_type": "code",
   "execution_count": 1,
   "id": "31663435-8242-47e2-8c68-7bd95b0cf73b",
   "metadata": {
    "id": "31663435-8242-47e2-8c68-7bd95b0cf73b"
   },
   "outputs": [],
   "source": [
    "# Code task 1#\n",
    "# Import common libraries\n",
    "import pandas as pd\n",
    "import numpy as np\n",
    "import seaborn as sns\n",
    "import matplotlib.pyplot as plt\n",
    "from scipy.stats import randint"
   ]
  },
  {
   "cell_type": "code",
   "execution_count": 2,
   "id": "b2db1cdb-cf07-4194-a928-52b7433267bb",
   "metadata": {
    "id": "b2db1cdb-cf07-4194-a928-52b7433267bb"
   },
   "outputs": [],
   "source": [
    "# Code task 2#\n",
    "# Import Machine Learning models:\n",
    "from sklearn.model_selection import train_test_split\n",
    "from sklearn.model_selection import GridSearchCV\n",
    "from sklearn.model_selection import RandomizedSearchCV\n",
    "from sklearn.neighbors import KNeighborsClassifier\n",
    "from sklearn.model_selection import cross_val_score, KFold\n",
    "from sklearn.metrics import confusion_matrix, classification_report, ConfusionMatrixDisplay\n",
    "from sklearn.ensemble import RandomForestClassifier\n",
    "from sklearn.ensemble import GradientBoostingClassifier\n",
    "from sklearn.datasets import make_classification\n",
    "from imblearn.over_sampling import RandomOverSampler\n",
    "from sklearn.metrics import recall_score\n",
    "from sklearn.preprocessing import StandardScaler\n",
    "from sklearn.linear_model import LinearRegression\n",
    "from scipy.stats import randint\n",
    "from sklearn.metrics import r2_score\n",
    "from sklearn.metrics import accuracy_score, recall_score\n",
    "from sklearn.preprocessing import LabelEncoder\n",
    "from sklearn.linear_model import Ridge"
   ]
  },
  {
   "cell_type": "code",
   "execution_count": 3,
   "id": "e5695ae8-b7e1-4bc8-81d5-e501b0811909",
   "metadata": {},
   "outputs": [],
   "source": [
    "\n",
    "# Data Preprocessing\n",
    "def preprocess_data(data):\n",
    "    \"\"\"Preprocess the data by handling missing values and encoding categorical features.\"\"\"\n",
    "    # Handling missing values\n",
    "    data = data.dropna()\n",
    "\n",
    "    # Encoding categorical variables (if any)\n",
    "    data = pd.get_dummies(data, drop_first=True)\n",
    "    \n",
    "    print(\"Data preprocessing completed.\")\n",
    "    return data\n",
    "\n",
    "# Splitting data\n",
    "def split_data(data, target_column):\n",
    "    \"\"\"Split the data into training and testing sets.\"\"\"\n",
    "    X = data.drop(columns=[target_column])\n",
    "    y = data[target_column]\n",
    "    X_train, X_test, y_train, y_test = train_test_split(X, y, test_size=0.3, random_state=42)\n",
    "    print(\"Data split into training and testing sets.\")\n",
    "    return X_train, X_test, y_train, y_test\n",
    "\n",
    "# Model Training\n",
    "def train_model(X_train, y_train):\n",
    "    \"\"\"Train a Random Forest model using GridSearchCV.\"\"\"\n",
    "    param_grid = {\n",
    "        'n_estimators': [50, 100, 150],\n",
    "        'max_depth': [None, 10, 20],\n",
    "        'min_samples_split': [2, 5, 10]\n",
    "    }\n",
    "    rf = RandomForestClassifier(random_state=42)\n",
    "    grid_search = GridSearchCV(rf, param_grid, cv=5, scoring='accuracy')\n",
    "    grid_search.fit(X_train, y_train)\n",
    "    print(\"Best Parameters:\", grid_search.best_params_)\n",
    "    return grid_search.best_estimator_\n",
    "\n",
    "# Model Evaluation\n",
    "def evaluate_model(model, X_test, y_test):\n",
    "    \"\"\"Evaluate the model and display performance metrics.\"\"\"\n",
    "    y_pred = model.predict(X_test)\n",
    "    print(\"Classification Report:\")\n",
    "    print(classification_report(y_test, y_pred))\n",
    "\n",
    "    # Confusion Matrix\n",
    "    cm = confusion_matrix(y_test, y_pred)\n",
    "    disp = ConfusionMatrixDisplay(confusion_matrix=cm)\n",
    "    disp.plot(cmap=plt.cm.Blues)\n",
    "    plt.title(\"Confusion Matrix\")\n",
    "    plt.show()\n",
    "\n",
    "    # Metrics\n",
    "    print(f\"Accuracy: {accuracy_score(y_test, y_pred):.2f}\")\n",
    "    print(f\"Precision: {precision_score(y_test, y_pred, average='weighted'):.2f}\")\n",
    "    print(f\"Recall: {recall_score(y_test, y_pred, average='weighted'):.2f}\")\n",
    "    print(f\"F1-Score: {f1_score(y_test, y_pred, average='weighted'):.2f}\")\n",
    "\n",
    "# Feature Importance\n",
    "def plot_feature_importance(model, feature_names):\n",
    "    \"\"\"Plot feature importance for RandomForestClassifier.\"\"\"\n",
    "    if hasattr(model, 'feature_importances_'):\n",
    "        importances = model.feature_importances_\n",
    "        indices = np.argsort(importances)[::-1]\n",
    "\n",
    "        plt.figure(figsize=(10, 6))\n",
    "        plt.title(\"Feature Importances\")\n",
    "        plt.bar(range(len(importances)), importances[indices], align=\"center\")\n",
    "        plt.xticks(range(len(importances)), np.array(feature_names)[indices], rotation=90)\n",
    "        plt.tight_layout()\n",
    "        plt.show()\n",
    "    else:\n",
    "        print(\"Model does not support feature importances.\")"
   ]
  },
  {
   "cell_type": "markdown",
   "id": "c741d3b3-5661-403f-bce2-d511ead1152a",
   "metadata": {
    "id": "c741d3b3-5661-403f-bce2-d511ead1152a"
   },
   "source": [
    "## 5.3 Import the data"
   ]
  },
  {
   "cell_type": "code",
   "execution_count": 4,
   "id": "0f5bcb3e-c004-461f-9c87-dc742c5513bd",
   "metadata": {
    "colab": {
     "base_uri": "https://localhost:8080/",
     "height": 676
    },
    "executionInfo": {
     "elapsed": 20,
     "status": "ok",
     "timestamp": 1737601906158,
     "user": {
      "displayName": "Wissmon Germain",
      "userId": "06314680937806420616"
     },
     "user_tz": 300
    },
    "id": "0f5bcb3e-c004-461f-9c87-dc742c5513bd",
    "outputId": "8e55b422-9746-4229-bdd6-516aa7157f02"
   },
   "outputs": [
    {
     "data": {
      "text/html": [
       "<div>\n",
       "<style scoped>\n",
       "    .dataframe tbody tr th:only-of-type {\n",
       "        vertical-align: middle;\n",
       "    }\n",
       "\n",
       "    .dataframe tbody tr th {\n",
       "        vertical-align: top;\n",
       "    }\n",
       "\n",
       "    .dataframe thead th {\n",
       "        text-align: right;\n",
       "    }\n",
       "</style>\n",
       "<table border=\"1\" class=\"dataframe\">\n",
       "  <thead>\n",
       "    <tr style=\"text-align: right;\">\n",
       "      <th></th>\n",
       "      <th>0</th>\n",
       "      <th>1</th>\n",
       "      <th>2</th>\n",
       "      <th>3</th>\n",
       "      <th>4</th>\n",
       "    </tr>\n",
       "  </thead>\n",
       "  <tbody>\n",
       "    <tr>\n",
       "      <th>CustomerID</th>\n",
       "      <td>12346.0</td>\n",
       "      <td>12747.0</td>\n",
       "      <td>12748.0</td>\n",
       "      <td>12749.0</td>\n",
       "      <td>12820.0</td>\n",
       "    </tr>\n",
       "    <tr>\n",
       "      <th>Revenue</th>\n",
       "      <td>0.0</td>\n",
       "      <td>2091.4</td>\n",
       "      <td>9786.54</td>\n",
       "      <td>782.1</td>\n",
       "      <td>170.46</td>\n",
       "    </tr>\n",
       "    <tr>\n",
       "      <th>TotalTransactions</th>\n",
       "      <td>2</td>\n",
       "      <td>6</td>\n",
       "      <td>95</td>\n",
       "      <td>2</td>\n",
       "      <td>1</td>\n",
       "    </tr>\n",
       "    <tr>\n",
       "      <th>AvgOrderValue</th>\n",
       "      <td>0.0</td>\n",
       "      <td>38.025455</td>\n",
       "      <td>6.777382</td>\n",
       "      <td>14.483333</td>\n",
       "      <td>15.496364</td>\n",
       "    </tr>\n",
       "    <tr>\n",
       "      <th>Frequency</th>\n",
       "      <td>2</td>\n",
       "      <td>55</td>\n",
       "      <td>1444</td>\n",
       "      <td>54</td>\n",
       "      <td>11</td>\n",
       "    </tr>\n",
       "    <tr>\n",
       "      <th>Recency</th>\n",
       "      <td>142</td>\n",
       "      <td>15</td>\n",
       "      <td>0</td>\n",
       "      <td>16</td>\n",
       "      <td>143</td>\n",
       "    </tr>\n",
       "    <tr>\n",
       "      <th>Tenure</th>\n",
       "      <td>1</td>\n",
       "      <td>171</td>\n",
       "      <td>190</td>\n",
       "      <td>14</td>\n",
       "      <td>1</td>\n",
       "    </tr>\n",
       "    <tr>\n",
       "      <th>RecencyCluster2</th>\n",
       "      <td>2</td>\n",
       "      <td>0</td>\n",
       "      <td>0</td>\n",
       "      <td>0</td>\n",
       "      <td>2</td>\n",
       "    </tr>\n",
       "    <tr>\n",
       "      <th>FrequencyCluster2</th>\n",
       "      <td>0</td>\n",
       "      <td>0</td>\n",
       "      <td>4</td>\n",
       "      <td>0</td>\n",
       "      <td>0</td>\n",
       "    </tr>\n",
       "    <tr>\n",
       "      <th>RevenueCluster2</th>\n",
       "      <td>0</td>\n",
       "      <td>0</td>\n",
       "      <td>1</td>\n",
       "      <td>0</td>\n",
       "      <td>0</td>\n",
       "    </tr>\n",
       "    <tr>\n",
       "      <th>Overall_Score</th>\n",
       "      <td>2</td>\n",
       "      <td>0</td>\n",
       "      <td>5</td>\n",
       "      <td>0</td>\n",
       "      <td>2</td>\n",
       "    </tr>\n",
       "    <tr>\n",
       "      <th>Future6MonthRevenue</th>\n",
       "      <td>0.0</td>\n",
       "      <td>2104.61</td>\n",
       "      <td>19285.56</td>\n",
       "      <td>3086.1</td>\n",
       "      <td>771.88</td>\n",
       "    </tr>\n",
       "    <tr>\n",
       "      <th>LTVCluster</th>\n",
       "      <td>0</td>\n",
       "      <td>0</td>\n",
       "      <td>2</td>\n",
       "      <td>1</td>\n",
       "      <td>0</td>\n",
       "    </tr>\n",
       "    <tr>\n",
       "      <th>Segment_High-Value</th>\n",
       "      <td>False</td>\n",
       "      <td>False</td>\n",
       "      <td>True</td>\n",
       "      <td>False</td>\n",
       "      <td>False</td>\n",
       "    </tr>\n",
       "    <tr>\n",
       "      <th>Segment_Low-Value</th>\n",
       "      <td>True</td>\n",
       "      <td>True</td>\n",
       "      <td>False</td>\n",
       "      <td>True</td>\n",
       "      <td>True</td>\n",
       "    </tr>\n",
       "    <tr>\n",
       "      <th>Segment_Mid-Value</th>\n",
       "      <td>False</td>\n",
       "      <td>False</td>\n",
       "      <td>False</td>\n",
       "      <td>False</td>\n",
       "      <td>False</td>\n",
       "    </tr>\n",
       "  </tbody>\n",
       "</table>\n",
       "</div>"
      ],
      "text/plain": [
       "                           0          1         2          3          4\n",
       "CustomerID           12346.0    12747.0   12748.0    12749.0    12820.0\n",
       "Revenue                  0.0     2091.4   9786.54      782.1     170.46\n",
       "TotalTransactions          2          6        95          2          1\n",
       "AvgOrderValue            0.0  38.025455  6.777382  14.483333  15.496364\n",
       "Frequency                  2         55      1444         54         11\n",
       "Recency                  142         15         0         16        143\n",
       "Tenure                     1        171       190         14          1\n",
       "RecencyCluster2            2          0         0          0          2\n",
       "FrequencyCluster2          0          0         4          0          0\n",
       "RevenueCluster2            0          0         1          0          0\n",
       "Overall_Score              2          0         5          0          2\n",
       "Future6MonthRevenue      0.0    2104.61  19285.56     3086.1     771.88\n",
       "LTVCluster                 0          0         2          1          0\n",
       "Segment_High-Value     False      False      True      False      False\n",
       "Segment_Low-Value       True       True     False       True       True\n",
       "Segment_Mid-Value      False      False     False      False      False"
      ]
     },
     "execution_count": 4,
     "metadata": {},
     "output_type": "execute_result"
    }
   ],
   "source": [
    "# Code task 3#\n",
    "# Import the initial data\n",
    "customer_data = pd.read_csv('customer_data.csv')\n",
    "# Import the transform data\n",
    "df = pd.read_csv(\"custommer_class.csv\")\n",
    "df.head().T"
   ]
  },
  {
   "cell_type": "code",
   "execution_count": 5,
   "id": "bd9ec6b0-acc3-4479-a3bb-780ba3e40212",
   "metadata": {
    "colab": {
     "base_uri": "https://localhost:8080/"
    },
    "executionInfo": {
     "elapsed": 18,
     "status": "ok",
     "timestamp": 1737601906158,
     "user": {
      "displayName": "Wissmon Germain",
      "userId": "06314680937806420616"
     },
     "user_tz": 300
    },
    "id": "bd9ec6b0-acc3-4479-a3bb-780ba3e40212",
    "outputId": "ff0f1ea1-1b5d-4362-bc88-56846bff6f50"
   },
   "outputs": [
    {
     "name": "stdout",
     "output_type": "stream",
     "text": [
      "<class 'pandas.core.frame.DataFrame'>\n",
      "RangeIndex: 2570 entries, 0 to 2569\n",
      "Data columns (total 16 columns):\n",
      " #   Column               Non-Null Count  Dtype  \n",
      "---  ------               --------------  -----  \n",
      " 0   CustomerID           2570 non-null   float64\n",
      " 1   Revenue              2570 non-null   float64\n",
      " 2   TotalTransactions    2570 non-null   int64  \n",
      " 3   AvgOrderValue        2570 non-null   float64\n",
      " 4   Frequency            2570 non-null   int64  \n",
      " 5   Recency              2570 non-null   int64  \n",
      " 6   Tenure               2570 non-null   int64  \n",
      " 7   RecencyCluster2      2570 non-null   int64  \n",
      " 8   FrequencyCluster2    2570 non-null   int64  \n",
      " 9   RevenueCluster2      2570 non-null   int64  \n",
      " 10  Overall_Score        2570 non-null   int64  \n",
      " 11  Future6MonthRevenue  2570 non-null   float64\n",
      " 12  LTVCluster           2570 non-null   int64  \n",
      " 13  Segment_High-Value   2570 non-null   bool   \n",
      " 14  Segment_Low-Value    2570 non-null   bool   \n",
      " 15  Segment_Mid-Value    2570 non-null   bool   \n",
      "dtypes: bool(3), float64(4), int64(9)\n",
      "memory usage: 268.7 KB\n"
     ]
    }
   ],
   "source": [
    "# Code task 4\n",
    "# Check on the dataset\n",
    "df.info()"
   ]
  },
  {
   "cell_type": "markdown",
   "id": "bc6af522-22ed-44b3-b944-b200f2b37119",
   "metadata": {
    "id": "f0dcb8e7-721c-4a6e-ac79-34f0e0ff1e05"
   },
   "source": [
    "## 5.3 Correlation of features against labels"
   ]
  },
  {
   "cell_type": "code",
   "execution_count": 6,
   "id": "0bdbfbcf-aef3-4532-83b2-c97a31d45d3b",
   "metadata": {
    "colab": {
     "base_uri": "https://localhost:8080/",
     "height": 711
    },
    "executionInfo": {
     "elapsed": 14,
     "status": "ok",
     "timestamp": 1737601906158,
     "user": {
      "displayName": "Wissmon Germain",
      "userId": "06314680937806420616"
     },
     "user_tz": 300
    },
    "id": "0bdbfbcf-aef3-4532-83b2-c97a31d45d3b",
    "outputId": "786ae0dc-7815-4dbc-e184-a00c590e4282"
   },
   "outputs": [
    {
     "data": {
      "text/plain": [
       "CustomerID            -0.006319\n",
       "Revenue                0.654042\n",
       "TotalTransactions      0.555012\n",
       "AvgOrderValue          0.158992\n",
       "Frequency              0.416424\n",
       "Recency               -0.197934\n",
       "Tenure                 0.314373\n",
       "RecencyCluster2       -0.189172\n",
       "FrequencyCluster2      0.345228\n",
       "RevenueCluster2        0.680915\n",
       "Overall_Score          0.179475\n",
       "Future6MonthRevenue    0.644445\n",
       "LTVCluster             1.000000\n",
       "Segment_High-Value     0.169334\n",
       "Segment_Low-Value     -0.158482\n",
       "Segment_Mid-Value      0.137919\n",
       "Name: LTVCluster, dtype: float64"
      ]
     },
     "execution_count": 6,
     "metadata": {},
     "output_type": "execute_result"
    }
   ],
   "source": [
    "# Code task 5#\n",
    "# Correlation between the independant variables and the dependant variable\n",
    "correlation_matrix = df.corr()\n",
    "label_matrix = correlation_matrix['LTVCluster']\n",
    "label_matrix"
   ]
  },
  {
   "cell_type": "markdown",
   "id": "cf9c90a2-af94-4648-9f75-14f911e7981e",
   "metadata": {
    "id": "cf9c90a2-af94-4648-9f75-14f911e7981e"
   },
   "source": [
    "The correlation matrix reveal:\n",
    "\n",
    "- Revenue has a strong positive correlation with \"Future6MonthRevenue.\"\n",
    "- TotalTransactions: The number of transactions a customer has made can be a good predictor of their future revenue.\n",
    "- AvgOrderValue: The average value of a customer's orders can also be an important factor.\n",
    "- Frequency: How often a customer makes purchases can be a strong indicator of their future value.\n",
    "- Recency: The time since the last purchase can provide insights into customer behavior.\n",
    "- Tenure: The length of time a customer has been with the company can also be relevant."
   ]
  },
  {
   "cell_type": "markdown",
   "id": "8ed68345-8cf6-44ad-af34-97ef8b68e5a0",
   "metadata": {
    "id": "8ed68345-8cf6-44ad-af34-97ef8b68e5a0"
   },
   "source": [
    "## 5.4 Machine Learning models:"
   ]
  },
  {
   "cell_type": "markdown",
   "id": "27535bd3-a59b-4978-a5ad-47fd31182a2c",
   "metadata": {
    "id": "27535bd3-a59b-4978-a5ad-47fd31182a2c"
   },
   "source": [
    "### 5.4.1 Type of Machine Learning model\n",
    "\n",
    "Predicting the Lifetime Value (LTV) of a customer is fundamentally a linear regression problem. A machine learning model can estimate the monetary value of each customer over a specified period, which in this case is six months. However, presenting this information to stakeholders as a list of all customers with their respective LTVs would be impractical. Therefore, we have transformed the regression problem into a multi-classification problem by segmenting the dependent variable \"Future6MonthRevenue\" into three categories:\n",
    "\n",
    "    - Top_LTV\n",
    "    - High_LTV\n",
    "    - Med_LTV\n",
    "    - Low_LTV\n",
    "\n",
    "The machine learning model will classify each customer into one of these segments. This approach makes the information more understandable for all stakeholders.\n",
    "\n",
    "The following three models will be evaluated to retain the most efficient ones:\n",
    "  - K-Nearest Neighbors (KNN)\n",
    "  - Random Forest\n",
    "  - Gradient Boost\n",
    "\n",
    "The approach adopted is as follows:\n",
    "  - Using \"GreadSearch\" and \"RandomizedSearch\" to determine the hyperparameters that lead to the best scores for each model.\n",
    "  - Create the model from the hyperparameters obtained from the search.\n",
    "  - Evaluate models'performance and perform a cross-validation to ensure the stability of the scores without overfitting the model\n",
    "  - Using Accuracy and Recall to evaluate the performance of the models\n",
    "  - Generate for each model the \"confusion matrix\"' and the classification report\n"
   ]
  },
  {
   "cell_type": "markdown",
   "id": "56682da5-c0ae-4062-99ea-d1441f62b044",
   "metadata": {
    "id": "56682da5-c0ae-4062-99ea-d1441f62b044"
   },
   "source": [
    "## 5.5 Split de Data into Training and Test"
   ]
  },
  {
   "cell_type": "code",
   "execution_count": 7,
   "id": "a0a6d300-d735-447e-871e-f9923811633f",
   "metadata": {
    "id": "a0a6d300-d735-447e-871e-f9923811633f"
   },
   "outputs": [],
   "source": [
    "# Code task 7#\n",
    "# Remove the column 'CustomerID' which will not include in the model\n",
    "df = df.drop(['CustomerID'], axis=1)"
   ]
  },
  {
   "cell_type": "code",
   "execution_count": 8,
   "id": "81d42ea9-b2c6-419d-8457-8c8d6a145cd3",
   "metadata": {
    "id": "81d42ea9-b2c6-419d-8457-8c8d6a145cd3"
   },
   "outputs": [],
   "source": [
    "# Code task 8#\n",
    "# Dependant variable or target: LVT\n",
    "y = df['LTVCluster']\n",
    "\n",
    "# Code task 9#\n",
    "# Independant variables or features\n",
    "X = df.drop(['Future6MonthRevenue','LTVCluster','AvgOrderValue'], axis=1)"
   ]
  },
  {
   "cell_type": "markdown",
   "id": "e7ddc114-b35a-445b-b719-9d65df8ee29f",
   "metadata": {},
   "source": [
    "### 5.5.1 Resample X and y to address the problem of unbalanced clusters"
   ]
  },
  {
   "cell_type": "code",
   "execution_count": 9,
   "id": "e621d0ca-f439-4095-ad4f-482294ea7227",
   "metadata": {},
   "outputs": [],
   "source": [
    "from imblearn.over_sampling import SMOTE\n",
    "\n",
    "smote = SMOTE(random_state=42, k_neighbors=1)\n",
    "X_resampled, y_resampled = smote.fit_resample(X, y)"
   ]
  },
  {
   "cell_type": "code",
   "execution_count": 10,
   "id": "3e233e7d-e74e-4ce5-a5eb-e10ea1af0c63",
   "metadata": {},
   "outputs": [],
   "source": [
    "# Code task 10#\n",
    "# Split the data in train and test\n",
    "X_train, X_test, y_train, y_test = train_test_split(X_resampled, y_resampled, test_size=0.2, random_state=42)"
   ]
  },
  {
   "cell_type": "markdown",
   "id": "d470b794-b5df-47b5-8b35-e01be1e132fe",
   "metadata": {
    "id": "d470b794-b5df-47b5-8b35-e01be1e132fe"
   },
   "source": [
    "## 5.6 Scale The Data"
   ]
  },
  {
   "cell_type": "code",
   "execution_count": 11,
   "id": "631a95a6-ab99-4e5c-a9e1-483bd2ca694a",
   "metadata": {
    "id": "631a95a6-ab99-4e5c-a9e1-483bd2ca694a"
   },
   "outputs": [],
   "source": [
    "#Code task 11#\n",
    "# Initialize the StandardScaler()\n",
    "scaler = StandardScaler()\n",
    "\n",
    "#Code task 12#\n",
    "# Fit and transform the training data\n",
    "X_train_scaled = scaler.fit_transform(X_train)\n",
    "\n",
    "#Code task 13#\n",
    "# Transform the testing data\n",
    "X_test_scaled = scaler.transform(X_test)"
   ]
  },
  {
   "cell_type": "markdown",
   "id": "ea9117f7-64ca-4887-b3f4-cddb89b302ec",
   "metadata": {
    "id": "ea9117f7-64ca-4887-b3f4-cddb89b302ec"
   },
   "source": [
    "### 5.7.1 k-Nearest Neighbors (k-NN)"
   ]
  },
  {
   "cell_type": "code",
   "execution_count": 12,
   "id": "45506b99-e3b5-4159-88cb-2863bac168f9",
   "metadata": {
    "id": "45506b99-e3b5-4159-88cb-2863bac168f9"
   },
   "outputs": [],
   "source": [
    "# Code task 14#\n",
    "# Instantiate the KNN classifier\n",
    "knn = KNeighborsClassifier()"
   ]
  },
  {
   "cell_type": "markdown",
   "id": "9ee65946-df7d-4322-b8fb-683f9a0e8f67",
   "metadata": {
    "id": "9ee65946-df7d-4322-b8fb-683f9a0e8f67"
   },
   "source": [
    "#### 5.7.1-2 Identifying the best parameters"
   ]
  },
  {
   "cell_type": "markdown",
   "id": "89d28185-b5ce-4949-a6bc-ae71e1963cd8",
   "metadata": {
    "id": "89d28185-b5ce-4949-a6bc-ae71e1963cd8"
   },
   "source": [
    "##### 5.7.1-2.1 Using GridSearch"
   ]
  },
  {
   "cell_type": "code",
   "execution_count": 13,
   "id": "da461afe-121a-4da0-8210-4fa8cb365319",
   "metadata": {
    "colab": {
     "base_uri": "https://localhost:8080/"
    },
    "executionInfo": {
     "elapsed": 35853,
     "status": "ok",
     "timestamp": 1737601942180,
     "user": {
      "displayName": "Wissmon Germain",
      "userId": "06314680937806420616"
     },
     "user_tz": 300
    },
    "id": "da461afe-121a-4da0-8210-4fa8cb365319",
    "outputId": "e1d3877c-8f0a-4d54-b35a-305e4d81f687"
   },
   "outputs": [
    {
     "name": "stdout",
     "output_type": "stream",
     "text": [
      "Best Parameters:  {'algorithm': 'auto', 'leaf_size': 10, 'n_neighbors': 3, 'p': 1, 'weights': 'distance'}\n",
      "Best Score:  0.9658440918617123\n",
      "Best parameters found: {'algorithm': 'auto', 'leaf_size': 10, 'n_neighbors': 3, 'p': 1, 'weights': 'distance'}\n"
     ]
    }
   ],
   "source": [
    "# Code task 15#\n",
    "# Define the parameter grid\n",
    "param_grid = { 'n_neighbors': [3, 5, 7, 9],\n",
    "              'weights': ['uniform', 'distance'],\n",
    "              'algorithm': ['auto', 'ball_tree', 'kd_tree', 'brute'],\n",
    "              'leaf_size': [10, 20, 30, 40],\n",
    "              'p': [1, 2] }\n",
    "\n",
    "# Code task 16#\n",
    "# Initialize GridSearchCV\n",
    "grid_search = GridSearchCV(knn, param_grid, cv=5, scoring='accuracy')\n",
    "\n",
    "# Code task 17#\n",
    "# Fit GridSearchCV to the data\n",
    "grid_search.fit(X_train_scaled, y_train)\n",
    "\n",
    "# Code task 18#\n",
    "# Print the best parameters and best score\n",
    "print('Best Parameters: ', grid_search.best_params_)\n",
    "print('Best Score: ', grid_search.best_score_)\n",
    "\n",
    "# Code task 19#\n",
    "# Get the best parameters\n",
    "best_params = grid_search.best_params_\n",
    "print(f'Best parameters found: {best_params}')\n"
   ]
  },
  {
   "cell_type": "markdown",
   "id": "59f5f5a2-35fc-4b01-bccc-646a6fb59418",
   "metadata": {
    "id": "59f5f5a2-35fc-4b01-bccc-646a6fb59418"
   },
   "source": [
    "##### 5.7.1-2.2 Using RandomizedSearchCV"
   ]
  },
  {
   "cell_type": "code",
   "execution_count": 14,
   "id": "d228c1a0-a033-441a-92a3-0c4a800e8db3",
   "metadata": {
    "colab": {
     "base_uri": "https://localhost:8080/"
    },
    "executionInfo": {
     "elapsed": 1227,
     "status": "ok",
     "timestamp": 1737601943404,
     "user": {
      "displayName": "Wissmon Germain",
      "userId": "06314680937806420616"
     },
     "user_tz": 300
    },
    "id": "d228c1a0-a033-441a-92a3-0c4a800e8db3",
    "outputId": "67ad1ef2-32a7-45da-bd58-5f38f95b9094"
   },
   "outputs": [
    {
     "name": "stdout",
     "output_type": "stream",
     "text": [
      "Best Parameters:  {'weights': 'distance', 'p': 1, 'n_neighbors': 5, 'leaf_size': 40, 'algorithm': 'ball_tree'}\n",
      "Best Score:  0.9647928435042876\n",
      "Best parameters found: {'weights': 'distance', 'p': 1, 'n_neighbors': 5, 'leaf_size': 40, 'algorithm': 'ball_tree'}\n"
     ]
    }
   ],
   "source": [
    "# Code task 20#\n",
    "# Define the parameter distribution\n",
    "param_grid = { 'n_neighbors': [3, 5, 7, 9],\n",
    "              'weights': ['uniform', 'distance'],\n",
    "              'algorithm': ['auto', 'ball_tree', 'kd_tree', 'brute'],\n",
    "              'leaf_size': [10, 20, 30, 40],\n",
    "              'p': [1, 2] }\n",
    "\n",
    "# Code task 21#\n",
    "# Initialize RandomizedSearchCV\n",
    "random_search = RandomizedSearchCV(knn, param_grid, cv=5, scoring='accuracy',random_state=42)\n",
    "\n",
    "# Code task 22#\n",
    "# Fit RandomizedSearchCV to the data\n",
    "random_search.fit(X_train_scaled, y_train)\n",
    "\n",
    "# Code task 23#\n",
    "# Print the best parameters and the best score\n",
    "print('Best Parameters: ', random_search.best_params_)\n",
    "print('Best Score: ', random_search.best_score_)\n",
    "\n",
    "# Code task 24#\n",
    "# Get the best parameters\n",
    "best_params = random_search.best_params_\n",
    "print(f'Best parameters found: {best_params}')\n"
   ]
  },
  {
   "cell_type": "markdown",
   "id": "ecbfc943-c2b6-4680-b0e3-3492ef1b8d66",
   "metadata": {
    "id": "ecbfc943-c2b6-4680-b0e3-3492ef1b8d66"
   },
   "source": [
    "##### GridSearch and RandomizedSearchCV slightly lead to the same score. We will retain the hyperparameters of the RandomizedSearch with the higher n_neighbors"
   ]
  },
  {
   "cell_type": "markdown",
   "id": "0d4ee8e5-c9fe-4e15-8056-c66744aaa839",
   "metadata": {
    "id": "0d4ee8e5-c9fe-4e15-8056-c66744aaa839"
   },
   "source": [
    "#### 5.7.1-3 The Model"
   ]
  },
  {
   "cell_type": "code",
   "execution_count": 15,
   "id": "f3b00748-52f4-4f54-aac9-cceff5bd8154",
   "metadata": {
    "colab": {
     "base_uri": "https://localhost:8080/",
     "height": 97
    },
    "executionInfo": {
     "elapsed": 7,
     "status": "ok",
     "timestamp": 1737601943404,
     "user": {
      "displayName": "Wissmon Germain",
      "userId": "06314680937806420616"
     },
     "user_tz": 300
    },
    "id": "f3b00748-52f4-4f54-aac9-cceff5bd8154",
    "outputId": "66d18df0-6c41-4a4b-aa1a-3396c80c68b7"
   },
   "outputs": [
    {
     "data": {
      "text/html": [
       "<style>#sk-container-id-1 {color: black;}#sk-container-id-1 pre{padding: 0;}#sk-container-id-1 div.sk-toggleable {background-color: white;}#sk-container-id-1 label.sk-toggleable__label {cursor: pointer;display: block;width: 100%;margin-bottom: 0;padding: 0.3em;box-sizing: border-box;text-align: center;}#sk-container-id-1 label.sk-toggleable__label-arrow:before {content: \"▸\";float: left;margin-right: 0.25em;color: #696969;}#sk-container-id-1 label.sk-toggleable__label-arrow:hover:before {color: black;}#sk-container-id-1 div.sk-estimator:hover label.sk-toggleable__label-arrow:before {color: black;}#sk-container-id-1 div.sk-toggleable__content {max-height: 0;max-width: 0;overflow: hidden;text-align: left;background-color: #f0f8ff;}#sk-container-id-1 div.sk-toggleable__content pre {margin: 0.2em;color: black;border-radius: 0.25em;background-color: #f0f8ff;}#sk-container-id-1 input.sk-toggleable__control:checked~div.sk-toggleable__content {max-height: 200px;max-width: 100%;overflow: auto;}#sk-container-id-1 input.sk-toggleable__control:checked~label.sk-toggleable__label-arrow:before {content: \"▾\";}#sk-container-id-1 div.sk-estimator input.sk-toggleable__control:checked~label.sk-toggleable__label {background-color: #d4ebff;}#sk-container-id-1 div.sk-label input.sk-toggleable__control:checked~label.sk-toggleable__label {background-color: #d4ebff;}#sk-container-id-1 input.sk-hidden--visually {border: 0;clip: rect(1px 1px 1px 1px);clip: rect(1px, 1px, 1px, 1px);height: 1px;margin: -1px;overflow: hidden;padding: 0;position: absolute;width: 1px;}#sk-container-id-1 div.sk-estimator {font-family: monospace;background-color: #f0f8ff;border: 1px dotted black;border-radius: 0.25em;box-sizing: border-box;margin-bottom: 0.5em;}#sk-container-id-1 div.sk-estimator:hover {background-color: #d4ebff;}#sk-container-id-1 div.sk-parallel-item::after {content: \"\";width: 100%;border-bottom: 1px solid gray;flex-grow: 1;}#sk-container-id-1 div.sk-label:hover label.sk-toggleable__label {background-color: #d4ebff;}#sk-container-id-1 div.sk-serial::before {content: \"\";position: absolute;border-left: 1px solid gray;box-sizing: border-box;top: 0;bottom: 0;left: 50%;z-index: 0;}#sk-container-id-1 div.sk-serial {display: flex;flex-direction: column;align-items: center;background-color: white;padding-right: 0.2em;padding-left: 0.2em;position: relative;}#sk-container-id-1 div.sk-item {position: relative;z-index: 1;}#sk-container-id-1 div.sk-parallel {display: flex;align-items: stretch;justify-content: center;background-color: white;position: relative;}#sk-container-id-1 div.sk-item::before, #sk-container-id-1 div.sk-parallel-item::before {content: \"\";position: absolute;border-left: 1px solid gray;box-sizing: border-box;top: 0;bottom: 0;left: 50%;z-index: -1;}#sk-container-id-1 div.sk-parallel-item {display: flex;flex-direction: column;z-index: 1;position: relative;background-color: white;}#sk-container-id-1 div.sk-parallel-item:first-child::after {align-self: flex-end;width: 50%;}#sk-container-id-1 div.sk-parallel-item:last-child::after {align-self: flex-start;width: 50%;}#sk-container-id-1 div.sk-parallel-item:only-child::after {width: 0;}#sk-container-id-1 div.sk-dashed-wrapped {border: 1px dashed gray;margin: 0 0.4em 0.5em 0.4em;box-sizing: border-box;padding-bottom: 0.4em;background-color: white;}#sk-container-id-1 div.sk-label label {font-family: monospace;font-weight: bold;display: inline-block;line-height: 1.2em;}#sk-container-id-1 div.sk-label-container {text-align: center;}#sk-container-id-1 div.sk-container {/* jupyter's `normalize.less` sets `[hidden] { display: none; }` but bootstrap.min.css set `[hidden] { display: none !important; }` so we also need the `!important` here to be able to override the default hidden behavior on the sphinx rendered scikit-learn.org. See: https://github.com/scikit-learn/scikit-learn/issues/21755 */display: inline-block !important;position: relative;}#sk-container-id-1 div.sk-text-repr-fallback {display: none;}</style><div id=\"sk-container-id-1\" class=\"sk-top-container\"><div class=\"sk-text-repr-fallback\"><pre>KNeighborsClassifier(leaf_size=10, n_neighbors=9)</pre><b>In a Jupyter environment, please rerun this cell to show the HTML representation or trust the notebook. <br />On GitHub, the HTML representation is unable to render, please try loading this page with nbviewer.org.</b></div><div class=\"sk-container\" hidden><div class=\"sk-item\"><div class=\"sk-estimator sk-toggleable\"><input class=\"sk-toggleable__control sk-hidden--visually\" id=\"sk-estimator-id-1\" type=\"checkbox\" checked><label for=\"sk-estimator-id-1\" class=\"sk-toggleable__label sk-toggleable__label-arrow\">KNeighborsClassifier</label><div class=\"sk-toggleable__content\"><pre>KNeighborsClassifier(leaf_size=10, n_neighbors=9)</pre></div></div></div></div></div>"
      ],
      "text/plain": [
       "KNeighborsClassifier(leaf_size=10, n_neighbors=9)"
      ]
     },
     "execution_count": 15,
     "metadata": {},
     "output_type": "execute_result"
    }
   ],
   "source": [
    "# Code task 26#\n",
    "# Instantiate the model\n",
    "knn1 = KNeighborsClassifier(weights='uniform', p=2, n_neighbors = 9, leaf_size= 10, algorithm= 'auto')\n",
    "\n",
    "# Code task 27#\n",
    "# Fit the model\n",
    "knn1.fit(X_train_scaled, y_train)"
   ]
  },
  {
   "cell_type": "markdown",
   "id": "88ada61f-b25a-4555-9753-7485b2594711",
   "metadata": {
    "id": "88ada61f-b25a-4555-9753-7485b2594711"
   },
   "source": [
    "#### 5.7.1-4 Evaluate the Model"
   ]
  },
  {
   "cell_type": "markdown",
   "id": "5efd9934-a274-48a1-84ac-f5a94b8e3698",
   "metadata": {
    "id": "5efd9934-a274-48a1-84ac-f5a94b8e3698"
   },
   "source": [
    "##### 5.7.1-4.1 Accuracy of knn1"
   ]
  },
  {
   "cell_type": "code",
   "execution_count": 16,
   "id": "1900fe84-5240-44cc-983e-659e535043d4",
   "metadata": {
    "colab": {
     "base_uri": "https://localhost:8080/"
    },
    "executionInfo": {
     "elapsed": 6,
     "status": "ok",
     "timestamp": 1737601943404,
     "user": {
      "displayName": "Wissmon Germain",
      "userId": "06314680937806420616"
     },
     "user_tz": 300
    },
    "id": "1900fe84-5240-44cc-983e-659e535043d4",
    "outputId": "df58afb8-dd68-41e6-a730-80ffc69ab37d"
   },
   "outputs": [
    {
     "name": "stdout",
     "output_type": "stream",
     "text": [
      "0.9495798319327731\n"
     ]
    }
   ],
   "source": [
    "# Code task 27#\n",
    "# Use the score method to determine the accuracy\n",
    "accuracy_score_knn1 = knn1.score(X_test_scaled, y_test)\n",
    "print(accuracy_score_knn1)"
   ]
  },
  {
   "cell_type": "markdown",
   "id": "b21e6440-567d-4af8-a230-b5e32a72dc8b",
   "metadata": {
    "id": "f83d5baf-d943-4d33-8e90-dc233eba5e98"
   },
   "source": [
    "##### 5.7.1-4.2 Cross-Validation"
   ]
  },
  {
   "cell_type": "code",
   "execution_count": 17,
   "id": "abc4d2ce-5736-46f2-97e5-cfff287ddc6a",
   "metadata": {
    "colab": {
     "base_uri": "https://localhost:8080/"
    },
    "executionInfo": {
     "elapsed": 5,
     "status": "ok",
     "timestamp": 1737601943404,
     "user": {
      "displayName": "Wissmon Germain",
      "userId": "06314680937806420616"
     },
     "user_tz": 300
    },
    "id": "abc4d2ce-5736-46f2-97e5-cfff287ddc6a",
    "outputId": "940a1570-732e-42c6-be07-14ab9d20c844"
   },
   "outputs": [
    {
     "name": "stdout",
     "output_type": "stream",
     "text": [
      "n_neighbors_train_results = [0.94247439 0.94168637 0.94720252 0.95429472 0.95425868 0.95347003]\n",
      "accuracy_train_knn = 0.9488977841747603\n",
      "accuracy_knn1_test = 0.9495798319327731\n"
     ]
    }
   ],
   "source": [
    "# Code task 28#\n",
    "# Define the KFold Cross-Validation\n",
    "kf = KFold(n_splits=6, shuffle=True, random_state=42)\n",
    "\n",
    "# Code task 29#\n",
    "#Cross-Validation\n",
    "n_neighbors_train_results = cross_val_score(knn1, X_train, y_train, cv=kf,scoring='accuracy' )\n",
    "accuracy_train_knn = n_neighbors_train_results.mean() # Choose the mean accuracy as the accuracy of the model\n",
    "\n",
    "# Code task 30#\n",
    "# Predict on the test set\n",
    "y_pred = knn1.predict(X_test_scaled)\n",
    "\n",
    "# Code task 31#\n",
    "# Evaluate the model on the test set\n",
    "accuracy_test_knn = accuracy_score(y_test, y_pred)\n",
    "\n",
    "# Code task 32#\n",
    "print(f'n_neighbors_train_results = {n_neighbors_train_results}')\n",
    "print(f'accuracy_train_knn = {accuracy_train_knn}')\n",
    "print(f'accuracy_knn1_test = {accuracy_test_knn}')"
   ]
  },
  {
   "cell_type": "markdown",
   "id": "19df7edf-7e8d-48ef-b944-7e20481ffd6b",
   "metadata": {
    "id": "19df7edf-7e8d-48ef-b944-7e20481ffd6b"
   },
   "source": [
    "##### The selected n_neighbors leads to an overall training recall of 0.979, which is close to the highest values in your list. This suggests a near-optimal parameter have been choosen.\n",
    "\n",
    "##### The test recall is  which is slightly higher than the training recall (0.979). This could indicate that the model generalizes well to unseen data and is not overfitting"
   ]
  },
  {
   "cell_type": "markdown",
   "id": "8644e67a-01c3-4e9f-88e3-3eebefdd5d19",
   "metadata": {
    "id": "8644e67a-01c3-4e9f-88e3-3eebefdd5d19"
   },
   "source": [
    "##### 5.7.1-4.3 Confusion Matrix"
   ]
  },
  {
   "cell_type": "code",
   "execution_count": 18,
   "id": "bb4baab9-0f59-4681-a968-cce686b2351e",
   "metadata": {
    "colab": {
     "base_uri": "https://localhost:8080/",
     "height": 693
    },
    "executionInfo": {
     "elapsed": 878,
     "status": "ok",
     "timestamp": 1737601944278,
     "user": {
      "displayName": "Wissmon Germain",
      "userId": "06314680937806420616"
     },
     "user_tz": 300
    },
    "id": "bb4baab9-0f59-4681-a968-cce686b2351e",
    "outputId": "5277c1f6-440f-47b7-a142-13cac3e7342d"
   },
   "outputs": [
    {
     "data": {
      "image/png": "[encoded data removed]",
      "text/plain": [
       "<Figure size 1000x700 with 2 Axes>"
      ]
     },
     "metadata": {},
     "output_type": "display_data"
    },
    {
     "name": "stdout",
     "output_type": "stream",
     "text": [
      "[[433  53   1   0]\n",
      " [ 40 452   2   0]\n",
      " [  0   0 478   0]\n",
      " [  0   0   0 445]]\n"
     ]
    }
   ],
   "source": [
    "# Code task 33#\n",
    "# Confusion Matrix\n",
    "cm= confusion_matrix(y_test, y_pred)\n",
    "\n",
    "# Code task 34#\n",
    "# Create a label encoder\n",
    "le = LabelEncoder()\n",
    "\n",
    "# Code task 35#\n",
    "# Fit and transform the labels\n",
    "df['LVT_encoded'] = le.fit_transform(df['LTVCluster'])\n",
    "\n",
    "\n",
    "# Code task 36#\n",
    "plt.figure(figsize=(10, 7))\n",
    "sns.heatmap(cm, annot=True, fmt='d', cmap='Blues', xticklabels=le.classes_, yticklabels=le.classes_)\n",
    "plt.xlabel('Predicted')\n",
    "plt.ylabel('Actual')\n",
    "plt.title('Confusion Matrix')\n",
    "plt.show()\n",
    "\n",
    "plt.show()\n",
    "print(confusion_matrix(y_test, y_pred))"
   ]
  },
  {
   "cell_type": "markdown",
   "id": "9bbe4b50-9627-49d8-9c62-f7e412169448",
   "metadata": {
    "id": "9bbe4b50-9627-49d8-9c62-f7e412169448"
   },
   "source": [
    "##### 5.7.1-4.4 Classification Report"
   ]
  },
  {
   "cell_type": "code",
   "execution_count": 19,
   "id": "5aa4dae2-dec8-4826-8662-591cde9a6b1c",
   "metadata": {
    "colab": {
     "base_uri": "https://localhost:8080/"
    },
    "executionInfo": {
     "elapsed": 6,
     "status": "ok",
     "timestamp": 1737601944278,
     "user": {
      "displayName": "Wissmon Germain",
      "userId": "06314680937806420616"
     },
     "user_tz": 300
    },
    "id": "5aa4dae2-dec8-4826-8662-591cde9a6b1c",
    "outputId": "ed29c5cd-e195-439c-fc2d-de6ad121f674"
   },
   "outputs": [
    {
     "name": "stdout",
     "output_type": "stream",
     "text": [
      "              precision    recall  f1-score   support\n",
      "\n",
      "     Low_LVT       0.92      0.89      0.90       487\n",
      "     Med_LVT       0.90      0.91      0.90       494\n",
      "    High_LVT       0.99      1.00      1.00       478\n",
      "     Top_LVT       1.00      1.00      1.00       445\n",
      "\n",
      "    accuracy                           0.95      1904\n",
      "   macro avg       0.95      0.95      0.95      1904\n",
      "weighted avg       0.95      0.95      0.95      1904\n",
      "\n"
     ]
    }
   ],
   "source": [
    "# Code task 37#\n",
    "# Define labels\n",
    "class_labels = ['Low_LVT','Med_LVT','High_LVT','Top_LVT' ]\n",
    "\n",
    "# Code task 38#\n",
    "# Generate the classification report\n",
    "report = classification_report(y_test, y_pred, target_names=class_labels)\n",
    "print(report)"
   ]
  },
  {
   "cell_type": "markdown",
   "id": "276e7709-796b-4554-97e3-5bd1ea8ad526",
   "metadata": {
    "id": "276e7709-796b-4554-97e3-5bd1ea8ad526"
   },
   "source": [
    "### 5.7.2 Random Forest"
   ]
  },
  {
   "cell_type": "code",
   "execution_count": 20,
   "id": "49d1b231-99bd-4eb3-994a-87dfaabb5524",
   "metadata": {
    "id": "49d1b231-99bd-4eb3-994a-87dfaabb5524"
   },
   "outputs": [],
   "source": [
    "# Code task 39#\n",
    "# Instantiate the model\n",
    "rf = RandomForestClassifier()"
   ]
  },
  {
   "cell_type": "markdown",
   "id": "dd49ed8d-831f-426b-b8b1-7afd48896021",
   "metadata": {
    "id": "dd49ed8d-831f-426b-b8b1-7afd48896021"
   },
   "source": [
    "#### 5.5.2-1 Identifying the best parameters"
   ]
  },
  {
   "cell_type": "markdown",
   "id": "05835b5b-f634-4128-b78f-d6a1979494fb",
   "metadata": {
    "id": "05835b5b-f634-4128-b78f-d6a1979494fb"
   },
   "source": [
    "##### 5.5.2-1.1 Using GridSearchCV"
   ]
  },
  {
   "cell_type": "code",
   "execution_count": 21,
   "id": "4cadbe03-28f7-44ad-b00e-a0259a05a5c7",
   "metadata": {
    "colab": {
     "background_save": true,
     "base_uri": "https://localhost:8080/"
    },
    "id": "4cadbe03-28f7-44ad-b00e-a0259a05a5c7",
    "outputId": "86c03d62-9184-44d6-d824-36ed2f049ab8"
   },
   "outputs": [
    {
     "name": "stdout",
     "output_type": "stream",
     "text": [
      "Fitting 5 folds for each of 1152 candidates, totalling 5760 fits\n",
      "Best Parameters:  {'bootstrap': False, 'max_depth': 30, 'max_features': 'sqrt', 'min_samples_leaf': 1, 'min_samples_split': 2, 'n_estimators': 200}\n",
      "Best Score:  0.9844985733427782\n"
     ]
    }
   ],
   "source": [
    "# Code task 40#\n",
    "# Define the parameter grid\n",
    "param_grid = {'n_estimators':[100,200,300],\n",
    "              'max_depth':[None, 10,20,30],\n",
    "              'min_samples_split':[2, 5, 10, 15],\n",
    "              'min_samples_leaf':[1, 2, 4, 6],\n",
    "              'max_features': ['sqrt', 'log2',None],\n",
    "              'bootstrap':[True, False]\n",
    "             }\n",
    "# Code task 41#\n",
    "# Instantiate the GridSearchCV object\n",
    "grid_search = GridSearchCV(estimator=rf, param_grid=param_grid, cv=5, n_jobs=-1, verbose=2)\n",
    "\n",
    "# Code task 42#\n",
    "# Fit the model\n",
    "grid_search.fit(X_train, y_train)\n",
    "\n",
    "# Code task 43#\n",
    "# Print the best parameters and best score\n",
    "print('Best Parameters: ', grid_search.best_params_)\n",
    "print('Best Score: ', grid_search.best_score_)"
   ]
  },
  {
   "cell_type": "markdown",
   "id": "f88f6a48-3028-4ad6-8a67-c5bb6934fc46",
   "metadata": {
    "id": "f88f6a48-3028-4ad6-8a67-c5bb6934fc46"
   },
   "source": [
    "##### 5.5.2-1.2 Using RandomizedSearchCV"
   ]
  },
  {
   "cell_type": "code",
   "execution_count": 22,
   "id": "5d5568fc-420c-48b5-b1db-c8290e13541f",
   "metadata": {
    "colab": {
     "background_save": true
    },
    "id": "5d5568fc-420c-48b5-b1db-c8290e13541f",
    "outputId": "8f2cb856-ba1b-45eb-e294-d841940955fc"
   },
   "outputs": [
    {
     "name": "stdout",
     "output_type": "stream",
     "text": [
      "Fitting 5 folds for each of 100 candidates, totalling 500 fits\n",
      "Best Parameters:  {'bootstrap': False, 'max_depth': 20, 'max_features': 'log2', 'min_samples_leaf': 1, 'min_samples_split': 4, 'n_estimators': 200}\n",
      "Best Score:  0.9835791624353\n"
     ]
    }
   ],
   "source": [
    "# Code task 44#\n",
    "# Define the parameter distribution\n",
    "param_dist ={\n",
    "    'n_estimators': randint(100,500),\n",
    "    'max_depth':[None, 10, 20, 30, 40],\n",
    "    'min_samples_split': randint(2,20),\n",
    "    'min_samples_leaf': randint(1,10),\n",
    "    'max_features':[None,'sqrt','log2'],\n",
    "    'bootstrap':[True, False]\n",
    "}\n",
    "\n",
    "# Code task 45#\n",
    "# Instantiate the RandomizedSearchCV\n",
    "random_search = RandomizedSearchCV(estimator=rf, param_distributions= param_dist,\n",
    "                                   n_iter=100, cv=5, n_jobs=-1, verbose=2, random_state=42)\n",
    "\n",
    "# Code task 46#\n",
    "# Fit the model\n",
    "random_search.fit(X_train, y_train)\n",
    "\n",
    "# Code task 47#\n",
    "# Print the best parameters and the best score\n",
    "print('Best Parameters: ', random_search.best_params_)\n",
    "print('Best Score: ', random_search.best_score_)"
   ]
  },
  {
   "cell_type": "markdown",
   "id": "07ef2e3b-8a71-47c0-b650-8b45a15acace",
   "metadata": {
    "id": "07ef2e3b-8a71-47c0-b650-8b45a15acace"
   },
   "source": [
    "##### The parameters obtained using GridSearchCV lead to a better score. We will retain them for the model"
   ]
  },
  {
   "cell_type": "markdown",
   "id": "e34c617d-8b3a-4842-af19-8393695bb77e",
   "metadata": {
    "id": "e34c617d-8b3a-4842-af19-8393695bb77e"
   },
   "source": [
    "#### 5.5.2-2 The Model"
   ]
  },
  {
   "cell_type": "code",
   "execution_count": 23,
   "id": "0807290a-96c2-451f-a60a-c587343219b2",
   "metadata": {
    "colab": {
     "background_save": true
    },
    "id": "0807290a-96c2-451f-a60a-c587343219b2",
    "outputId": "f0066d5f-80f4-486c-c6d2-008b2e83d9c4"
   },
   "outputs": [
    {
     "data": {
      "text/html": [
       "<style>#sk-container-id-2 {color: black;}#sk-container-id-2 pre{padding: 0;}#sk-container-id-2 div.sk-toggleable {background-color: white;}#sk-container-id-2 label.sk-toggleable__label {cursor: pointer;display: block;width: 100%;margin-bottom: 0;padding: 0.3em;box-sizing: border-box;text-align: center;}#sk-container-id-2 label.sk-toggleable__label-arrow:before {content: \"▸\";float: left;margin-right: 0.25em;color: #696969;}#sk-container-id-2 label.sk-toggleable__label-arrow:hover:before {color: black;}#sk-container-id-2 div.sk-estimator:hover label.sk-toggleable__label-arrow:before {color: black;}#sk-container-id-2 div.sk-toggleable__content {max-height: 0;max-width: 0;overflow: hidden;text-align: left;background-color: #f0f8ff;}#sk-container-id-2 div.sk-toggleable__content pre {margin: 0.2em;color: black;border-radius: 0.25em;background-color: #f0f8ff;}#sk-container-id-2 input.sk-toggleable__control:checked~div.sk-toggleable__content {max-height: 200px;max-width: 100%;overflow: auto;}#sk-container-id-2 input.sk-toggleable__control:checked~label.sk-toggleable__label-arrow:before {content: \"▾\";}#sk-container-id-2 div.sk-estimator input.sk-toggleable__control:checked~label.sk-toggleable__label {background-color: #d4ebff;}#sk-container-id-2 div.sk-label input.sk-toggleable__control:checked~label.sk-toggleable__label {background-color: #d4ebff;}#sk-container-id-2 input.sk-hidden--visually {border: 0;clip: rect(1px 1px 1px 1px);clip: rect(1px, 1px, 1px, 1px);height: 1px;margin: -1px;overflow: hidden;padding: 0;position: absolute;width: 1px;}#sk-container-id-2 div.sk-estimator {font-family: monospace;background-color: #f0f8ff;border: 1px dotted black;border-radius: 0.25em;box-sizing: border-box;margin-bottom: 0.5em;}#sk-container-id-2 div.sk-estimator:hover {background-color: #d4ebff;}#sk-container-id-2 div.sk-parallel-item::after {content: \"\";width: 100%;border-bottom: 1px solid gray;flex-grow: 1;}#sk-container-id-2 div.sk-label:hover label.sk-toggleable__label {background-color: #d4ebff;}#sk-container-id-2 div.sk-serial::before {content: \"\";position: absolute;border-left: 1px solid gray;box-sizing: border-box;top: 0;bottom: 0;left: 50%;z-index: 0;}#sk-container-id-2 div.sk-serial {display: flex;flex-direction: column;align-items: center;background-color: white;padding-right: 0.2em;padding-left: 0.2em;position: relative;}#sk-container-id-2 div.sk-item {position: relative;z-index: 1;}#sk-container-id-2 div.sk-parallel {display: flex;align-items: stretch;justify-content: center;background-color: white;position: relative;}#sk-container-id-2 div.sk-item::before, #sk-container-id-2 div.sk-parallel-item::before {content: \"\";position: absolute;border-left: 1px solid gray;box-sizing: border-box;top: 0;bottom: 0;left: 50%;z-index: -1;}#sk-container-id-2 div.sk-parallel-item {display: flex;flex-direction: column;z-index: 1;position: relative;background-color: white;}#sk-container-id-2 div.sk-parallel-item:first-child::after {align-self: flex-end;width: 50%;}#sk-container-id-2 div.sk-parallel-item:last-child::after {align-self: flex-start;width: 50%;}#sk-container-id-2 div.sk-parallel-item:only-child::after {width: 0;}#sk-container-id-2 div.sk-dashed-wrapped {border: 1px dashed gray;margin: 0 0.4em 0.5em 0.4em;box-sizing: border-box;padding-bottom: 0.4em;background-color: white;}#sk-container-id-2 div.sk-label label {font-family: monospace;font-weight: bold;display: inline-block;line-height: 1.2em;}#sk-container-id-2 div.sk-label-container {text-align: center;}#sk-container-id-2 div.sk-container {/* jupyter's `normalize.less` sets `[hidden] { display: none; }` but bootstrap.min.css set `[hidden] { display: none !important; }` so we also need the `!important` here to be able to override the default hidden behavior on the sphinx rendered scikit-learn.org. See: https://github.com/scikit-learn/scikit-learn/issues/21755 */display: inline-block !important;position: relative;}#sk-container-id-2 div.sk-text-repr-fallback {display: none;}</style><div id=\"sk-container-id-2\" class=\"sk-top-container\"><div class=\"sk-text-repr-fallback\"><pre>RandomForestClassifier(bootstrap=False, min_samples_split=15)</pre><b>In a Jupyter environment, please rerun this cell to show the HTML representation or trust the notebook. <br />On GitHub, the HTML representation is unable to render, please try loading this page with nbviewer.org.</b></div><div class=\"sk-container\" hidden><div class=\"sk-item\"><div class=\"sk-estimator sk-toggleable\"><input class=\"sk-toggleable__control sk-hidden--visually\" id=\"sk-estimator-id-2\" type=\"checkbox\" checked><label for=\"sk-estimator-id-2\" class=\"sk-toggleable__label sk-toggleable__label-arrow\">RandomForestClassifier</label><div class=\"sk-toggleable__content\"><pre>RandomForestClassifier(bootstrap=False, min_samples_split=15)</pre></div></div></div></div></div>"
      ],
      "text/plain": [
       "RandomForestClassifier(bootstrap=False, min_samples_split=15)"
      ]
     },
     "execution_count": 23,
     "metadata": {},
     "output_type": "execute_result"
    }
   ],
   "source": [
    "# Code task 48#\n",
    "# Instantiate the model\n",
    "rf1 = RandomForestClassifier(n_estimators= 100 , max_depth= None,\n",
    "                             min_samples_split= 15 , min_samples_leaf= 1 ,\n",
    "                             max_features='sqrt' , bootstrap=False)\n",
    "\n",
    "# Code task 49#\n",
    "# Fit the model\n",
    "rf1.fit(X_train, y_train)"
   ]
  },
  {
   "cell_type": "markdown",
   "id": "e8d58073-82f6-4c26-8e58-0d0f1ff695a1",
   "metadata": {
    "id": "e8d58073-82f6-4c26-8e58-0d0f1ff695a1"
   },
   "source": [
    "#### 5.5.2-3 Evaluate the Model"
   ]
  },
  {
   "cell_type": "markdown",
   "id": "d9a09e68-3f0b-42b8-b19e-4b75ca1f8e12",
   "metadata": {
    "id": "d9a09e68-3f0b-42b8-b19e-4b75ca1f8e12"
   },
   "source": [
    "##### 5.5.2-3.1 Accuracy"
   ]
  },
  {
   "cell_type": "code",
   "execution_count": 24,
   "id": "0aab9dd7-5328-460b-b8b0-7a107b33add3",
   "metadata": {
    "colab": {
     "background_save": true
    },
    "id": "0aab9dd7-5328-460b-b8b0-7a107b33add3",
    "outputId": "be6a4ef7-487a-463d-d364-7426eb37a92c"
   },
   "outputs": [
    {
     "name": "stdout",
     "output_type": "stream",
     "text": [
      "0.9821428571428571\n"
     ]
    }
   ],
   "source": [
    "# Code task 49#\n",
    "# Use the score method to assess the accuracy of the model\n",
    "accuracy_rf = rf1.score(X_test, y_test)\n",
    "print(accuracy_rf)"
   ]
  },
  {
   "cell_type": "markdown",
   "id": "0e1bc473-8d8f-4622-84d8-a4667601adb0",
   "metadata": {
    "id": "0e1bc473-8d8f-4622-84d8-a4667601adb0"
   },
   "source": [
    "##### 5.5.2-3.4 Cross-Validation"
   ]
  },
  {
   "cell_type": "code",
   "execution_count": 25,
   "id": "3824d4a6-967b-4932-8479-425cb69312a8",
   "metadata": {
    "colab": {
     "background_save": true
    },
    "id": "3824d4a6-967b-4932-8479-425cb69312a8",
    "outputId": "8cdaf7cb-2977-4638-b152-7c2391d99a40"
   },
   "outputs": [
    {
     "name": "stdout",
     "output_type": "stream",
     "text": [
      "[0.97951143 0.98108747 0.98187549 0.98660362 0.98028391 0.98659306]\n",
      "accuracy_train_rf = 0.9826591642988718\n",
      "accuracy_test_rf = 0.9821428571428571\n"
     ]
    }
   ],
   "source": [
    "# Code task 50#\n",
    "# Define the KFold Cross-Validation\n",
    "kf = KFold(n_splits=6, shuffle=True, random_state=42)\n",
    "\n",
    "# Code task 51#\n",
    "#Cross-Validation\n",
    "random_forest_train_results = cross_val_score(rf1, X_train, y_train, cv=kf, scoring='accuracy')\n",
    "accuracy_train_rf = random_forest_train_results.mean()\n",
    "\n",
    "# Code task 52#\n",
    "# Predict on the test set\n",
    "y_pred = rf1.predict(X_test)\n",
    "\n",
    "# Code task 53#\n",
    "# Evaluate the model on the test set\n",
    "accuracy_test_rf = accuracy_score(y_test, y_pred)\n",
    "\n",
    "# Code task 54#\n",
    "# Print the performance\n",
    "print(random_forest_train_results)\n",
    "print(f'accuracy_train_rf = {accuracy_train_rf}')\n",
    "print(f'accuracy_test_rf = {accuracy_test_rf}')\n"
   ]
  },
  {
   "cell_type": "markdown",
   "id": "701ed560-3cb4-479a-8b5c-b1d664ac84c6",
   "metadata": {
    "id": "701ed560-3cb4-479a-8b5c-b1d664ac84c6"
   },
   "source": [
    "##### 5.5.2-3.2 Confusion Matrix"
   ]
  },
  {
   "cell_type": "code",
   "execution_count": 26,
   "id": "9c333d7a-5c6f-4c89-adb8-2bdab75e1155",
   "metadata": {
    "colab": {
     "background_save": true
    },
    "id": "9c333d7a-5c6f-4c89-adb8-2bdab75e1155",
    "outputId": "09ed3a20-d426-4f82-a3f0-bc948d9baeaf"
   },
   "outputs": [
    {
     "data": {
      "image/png": "[encoded data removed]",
      "text/plain": [
       "<Figure size 1000x700 with 2 Axes>"
      ]
     },
     "metadata": {},
     "output_type": "display_data"
    },
    {
     "name": "stdout",
     "output_type": "stream",
     "text": [
      "[[471  16   0   0]\n",
      " [ 18 476   0   0]\n",
      " [  0   0 478   0]\n",
      " [  0   0   0 445]]\n"
     ]
    }
   ],
   "source": [
    "# Code task 55#\n",
    "# Confusion Matrix\n",
    "cm= confusion_matrix(y_test, y_pred)\n",
    "\n",
    "# Code task 56#\n",
    "# Create a label encoder\n",
    "le1 = LabelEncoder()\n",
    "\n",
    "# Code task 57#\n",
    "# Fit and transform the labels\n",
    "df['LVT_encoded'] = le1.fit_transform(df['LTVCluster'])\n",
    "\n",
    "\n",
    "# Code task 58#\n",
    "plt.figure(figsize=(10, 7))\n",
    "sns.heatmap(cm, annot=True, fmt='d', cmap='Blues', xticklabels=le1.classes_, yticklabels=le1.classes_)\n",
    "plt.xlabel('Predicted')\n",
    "plt.ylabel('Actual')\n",
    "plt.title('Confusion Matrix')\n",
    "\n",
    "plt.show()\n",
    "print(confusion_matrix(y_test, y_pred))"
   ]
  },
  {
   "cell_type": "markdown",
   "id": "95369c78-a159-420f-a2ba-1d397b1f6353",
   "metadata": {
    "id": "95369c78-a159-420f-a2ba-1d397b1f6353"
   },
   "source": [
    "##### 5.5.2-3.3 Classification Report"
   ]
  },
  {
   "cell_type": "code",
   "execution_count": 27,
   "id": "0bcf5b15-bf8d-4962-9128-c2218b5889f4",
   "metadata": {
    "colab": {
     "background_save": true
    },
    "id": "0bcf5b15-bf8d-4962-9128-c2218b5889f4",
    "outputId": "cb8db2d3-cf43-4d2e-cc9f-b678aa50abc3"
   },
   "outputs": [
    {
     "name": "stdout",
     "output_type": "stream",
     "text": [
      "              precision    recall  f1-score   support\n",
      "\n",
      "     Low_LVT       0.96      0.97      0.97       487\n",
      "     Med_LVT       0.97      0.96      0.97       494\n",
      "    High_LVT       1.00      1.00      1.00       478\n",
      "     Top_LVT       1.00      1.00      1.00       445\n",
      "\n",
      "    accuracy                           0.98      1904\n",
      "   macro avg       0.98      0.98      0.98      1904\n",
      "weighted avg       0.98      0.98      0.98      1904\n",
      "\n"
     ]
    }
   ],
   "source": [
    "# Code task 59#\n",
    "# Define the labels for the classification report\n",
    "class_labels = ['Low_LVT','Med_LVT','High_LVT','Top_LVT']\n",
    "\n",
    "# Code task 60#\n",
    "# Generate the classification report\n",
    "report = classification_report(y_test, y_pred, target_names=class_labels)\n",
    "print(report)\n"
   ]
  },
  {
   "cell_type": "markdown",
   "id": "da8f2506-cd23-4647-acce-a62dfa1d79a3",
   "metadata": {
    "id": "da8f2506-cd23-4647-acce-a62dfa1d79a3"
   },
   "source": [
    "The test recall is slightly higher than the training recall, which is unusual but not alarming"
   ]
  },
  {
   "cell_type": "markdown",
   "id": "f5cd1958-bf37-42b8-9ba1-7c8d4fdb3e38",
   "metadata": {
    "id": "f5cd1958-bf37-42b8-9ba1-7c8d4fdb3e38"
   },
   "source": [
    "### 5.5.3 Gradient Boosting"
   ]
  },
  {
   "cell_type": "code",
   "execution_count": 28,
   "id": "d548286d-28cb-420b-867f-30dadb87625c",
   "metadata": {
    "colab": {
     "background_save": true
    },
    "id": "d548286d-28cb-420b-867f-30dadb87625c"
   },
   "outputs": [],
   "source": [
    "# Code task 70#\n",
    "# Intantiate the model\n",
    "gbc = GradientBoostingClassifier()"
   ]
  },
  {
   "cell_type": "markdown",
   "id": "4a0ad359-05f2-45a2-b832-4b4e07d9503d",
   "metadata": {
    "id": "4a0ad359-05f2-45a2-b832-4b4e07d9503d"
   },
   "source": [
    "#### 5.5.3-1 Identifying the best parameters"
   ]
  },
  {
   "cell_type": "markdown",
   "id": "dacd7bea-f950-4b2f-9a0b-727cb4e0cd2e",
   "metadata": {
    "id": "dacd7bea-f950-4b2f-9a0b-727cb4e0cd2e"
   },
   "source": [
    "##### 5.5.3-1.1 Using GridSearch"
   ]
  },
  {
   "cell_type": "code",
   "execution_count": 29,
   "id": "ab9dfcbb-0c0a-4509-980c-ec7d23b26629",
   "metadata": {
    "id": "ab9dfcbb-0c0a-4509-980c-ec7d23b26629"
   },
   "outputs": [
    {
     "name": "stdout",
     "output_type": "stream",
     "text": [
      "Fitting 5 folds for each of 729 candidates, totalling 3645 fits\n",
      "Best Parameters:  {'learning_rate': 0.2, 'max_depth': 5, 'max_features': 'log2', 'min_samples_leaf': 2, 'min_samples_split': 10, 'n_estimators': 300}\n",
      "Best Score:  0.9825279140778755\n"
     ]
    }
   ],
   "source": [
    "# Code task 71#\n",
    "# Define the Grid parameters\n",
    "param_grid = { 'n_estimators': [100, 200, 300],\n",
    "              'learning_rate': [0.01, 0.1, 0.2],\n",
    "              'max_depth': [3, 4, 5],\n",
    "              'min_samples_split': [2, 5, 10],\n",
    "              'min_samples_leaf': [1, 2, 4],\n",
    "              'max_features': ['sqrt', 'log2',None]\n",
    "             }\n",
    "\n",
    "# Code task 72#\n",
    "# Instantiate the GridSearchCV object\n",
    "grid_search = GridSearchCV(estimator=gbc, param_grid=param_grid, cv=5, n_jobs=-1, verbose=2)\n",
    "\n",
    "# Code task 73#\n",
    "# Fit the model\n",
    "grid_search.fit(X_train, y_train)\n",
    "\n",
    "# Code task 74#\n",
    "# Print the best parameters and best score\n",
    "print('Best Parameters: ', grid_search.best_params_)\n",
    "print('Best Score: ', grid_search.best_score_)"
   ]
  },
  {
   "cell_type": "markdown",
   "id": "e22db780-2819-471f-89bb-33d9906fdbe4",
   "metadata": {
    "id": "e22db780-2819-471f-89bb-33d9906fdbe4"
   },
   "source": [
    "##### 5.5.3-1.2 Using RandomizedSearchCV"
   ]
  },
  {
   "cell_type": "code",
   "execution_count": 30,
   "id": "8b2f05a0-9774-4a9d-a2f9-cc77773e4723",
   "metadata": {
    "id": "8b2f05a0-9774-4a9d-a2f9-cc77773e4723"
   },
   "outputs": [
    {
     "name": "stdout",
     "output_type": "stream",
     "text": [
      "Fitting 5 folds for each of 100 candidates, totalling 500 fits\n",
      "Best Parameters:  {'learning_rate': 0.2, 'max_depth': 9, 'max_features': 'log2', 'min_samples_leaf': 7, 'min_samples_split': 10, 'n_estimators': 306}\n",
      "Best Score:  0.9838414568383345\n"
     ]
    }
   ],
   "source": [
    "# Code task 75#\n",
    "# Define the parameter distribution\n",
    "param_dist = { 'n_estimators': randint(100, 500),\n",
    "              'learning_rate': [0.01, 0.1, 0.2],\n",
    "              'max_depth': randint(3, 10),\n",
    "              'min_samples_split': randint(2, 20),\n",
    "              'min_samples_leaf': randint(1, 10),\n",
    "              'max_features': ['sqrt', 'log2',None]\n",
    "             }\n",
    "\n",
    "# Code task 76#\n",
    "# Instantiate the RandomizedSearchCV\n",
    "random_search = RandomizedSearchCV(estimator=gbc, param_distributions= param_dist,\n",
    "                                   n_iter=100, cv=5, n_jobs=-1, verbose=2, random_state=42)\n",
    "\n",
    "# Code task 77#\n",
    "# Fit the model\n",
    "random_search.fit(X_train, y_train)\n",
    "\n",
    "# Code task 78#\n",
    "# Print the best parameters and the best score\n",
    "print('Best Parameters: ', random_search.best_params_)\n",
    "print('Best Score: ', random_search.best_score_)"
   ]
  },
  {
   "cell_type": "markdown",
   "id": "98dba657-3988-496b-9474-2bf6cd9c7023",
   "metadata": {
    "id": "98dba657-3988-496b-9474-2bf6cd9c7023"
   },
   "source": [
    "##### RandomizedSearch leads to the best score in the case of the Gradient Boosting Model. We'll use its parameters to build our model"
   ]
  },
  {
   "cell_type": "markdown",
   "id": "9d377621-b596-485d-b7ef-f5e9bbdfccd9",
   "metadata": {
    "id": "9d377621-b596-485d-b7ef-f5e9bbdfccd9"
   },
   "source": [
    "### 5.5.3-2 The Model"
   ]
  },
  {
   "cell_type": "code",
   "execution_count": 37,
   "id": "a164573e-f3d4-4994-a781-970064d9f6d0",
   "metadata": {
    "id": "a164573e-f3d4-4994-a781-970064d9f6d0"
   },
   "outputs": [
    {
     "data": {
      "text/html": [
       "<style>#sk-container-id-4 {color: black;}#sk-container-id-4 pre{padding: 0;}#sk-container-id-4 div.sk-toggleable {background-color: white;}#sk-container-id-4 label.sk-toggleable__label {cursor: pointer;display: block;width: 100%;margin-bottom: 0;padding: 0.3em;box-sizing: border-box;text-align: center;}#sk-container-id-4 label.sk-toggleable__label-arrow:before {content: \"▸\";float: left;margin-right: 0.25em;color: #696969;}#sk-container-id-4 label.sk-toggleable__label-arrow:hover:before {color: black;}#sk-container-id-4 div.sk-estimator:hover label.sk-toggleable__label-arrow:before {color: black;}#sk-container-id-4 div.sk-toggleable__content {max-height: 0;max-width: 0;overflow: hidden;text-align: left;background-color: #f0f8ff;}#sk-container-id-4 div.sk-toggleable__content pre {margin: 0.2em;color: black;border-radius: 0.25em;background-color: #f0f8ff;}#sk-container-id-4 input.sk-toggleable__control:checked~div.sk-toggleable__content {max-height: 200px;max-width: 100%;overflow: auto;}#sk-container-id-4 input.sk-toggleable__control:checked~label.sk-toggleable__label-arrow:before {content: \"▾\";}#sk-container-id-4 div.sk-estimator input.sk-toggleable__control:checked~label.sk-toggleable__label {background-color: #d4ebff;}#sk-container-id-4 div.sk-label input.sk-toggleable__control:checked~label.sk-toggleable__label {background-color: #d4ebff;}#sk-container-id-4 input.sk-hidden--visually {border: 0;clip: rect(1px 1px 1px 1px);clip: rect(1px, 1px, 1px, 1px);height: 1px;margin: -1px;overflow: hidden;padding: 0;position: absolute;width: 1px;}#sk-container-id-4 div.sk-estimator {font-family: monospace;background-color: #f0f8ff;border: 1px dotted black;border-radius: 0.25em;box-sizing: border-box;margin-bottom: 0.5em;}#sk-container-id-4 div.sk-estimator:hover {background-color: #d4ebff;}#sk-container-id-4 div.sk-parallel-item::after {content: \"\";width: 100%;border-bottom: 1px solid gray;flex-grow: 1;}#sk-container-id-4 div.sk-label:hover label.sk-toggleable__label {background-color: #d4ebff;}#sk-container-id-4 div.sk-serial::before {content: \"\";position: absolute;border-left: 1px solid gray;box-sizing: border-box;top: 0;bottom: 0;left: 50%;z-index: 0;}#sk-container-id-4 div.sk-serial {display: flex;flex-direction: column;align-items: center;background-color: white;padding-right: 0.2em;padding-left: 0.2em;position: relative;}#sk-container-id-4 div.sk-item {position: relative;z-index: 1;}#sk-container-id-4 div.sk-parallel {display: flex;align-items: stretch;justify-content: center;background-color: white;position: relative;}#sk-container-id-4 div.sk-item::before, #sk-container-id-4 div.sk-parallel-item::before {content: \"\";position: absolute;border-left: 1px solid gray;box-sizing: border-box;top: 0;bottom: 0;left: 50%;z-index: -1;}#sk-container-id-4 div.sk-parallel-item {display: flex;flex-direction: column;z-index: 1;position: relative;background-color: white;}#sk-container-id-4 div.sk-parallel-item:first-child::after {align-self: flex-end;width: 50%;}#sk-container-id-4 div.sk-parallel-item:last-child::after {align-self: flex-start;width: 50%;}#sk-container-id-4 div.sk-parallel-item:only-child::after {width: 0;}#sk-container-id-4 div.sk-dashed-wrapped {border: 1px dashed gray;margin: 0 0.4em 0.5em 0.4em;box-sizing: border-box;padding-bottom: 0.4em;background-color: white;}#sk-container-id-4 div.sk-label label {font-family: monospace;font-weight: bold;display: inline-block;line-height: 1.2em;}#sk-container-id-4 div.sk-label-container {text-align: center;}#sk-container-id-4 div.sk-container {/* jupyter's `normalize.less` sets `[hidden] { display: none; }` but bootstrap.min.css set `[hidden] { display: none !important; }` so we also need the `!important` here to be able to override the default hidden behavior on the sphinx rendered scikit-learn.org. See: https://github.com/scikit-learn/scikit-learn/issues/21755 */display: inline-block !important;position: relative;}#sk-container-id-4 div.sk-text-repr-fallback {display: none;}</style><div id=\"sk-container-id-4\" class=\"sk-top-container\"><div class=\"sk-text-repr-fallback\"><pre>GradientBoostingClassifier(learning_rate=0.2, max_depth=9, max_features=&#x27;log2&#x27;,\n",
       "                           min_samples_leaf=7, min_samples_split=10,\n",
       "                           n_estimators=200)</pre><b>In a Jupyter environment, please rerun this cell to show the HTML representation or trust the notebook. <br />On GitHub, the HTML representation is unable to render, please try loading this page with nbviewer.org.</b></div><div class=\"sk-container\" hidden><div class=\"sk-item\"><div class=\"sk-estimator sk-toggleable\"><input class=\"sk-toggleable__control sk-hidden--visually\" id=\"sk-estimator-id-4\" type=\"checkbox\" checked><label for=\"sk-estimator-id-4\" class=\"sk-toggleable__label sk-toggleable__label-arrow\">GradientBoostingClassifier</label><div class=\"sk-toggleable__content\"><pre>GradientBoostingClassifier(learning_rate=0.2, max_depth=9, max_features=&#x27;log2&#x27;,\n",
       "                           min_samples_leaf=7, min_samples_split=10,\n",
       "                           n_estimators=200)</pre></div></div></div></div></div>"
      ],
      "text/plain": [
       "GradientBoostingClassifier(learning_rate=0.2, max_depth=9, max_features='log2',\n",
       "                           min_samples_leaf=7, min_samples_split=10,\n",
       "                           n_estimators=200)"
      ]
     },
     "execution_count": 37,
     "metadata": {},
     "output_type": "execute_result"
    }
   ],
   "source": [
    "# Code task 79#\n",
    "# Instantiate the model\n",
    "gbc1 = GradientBoostingClassifier(n_estimators =200,\n",
    "              learning_rate =0.2,\n",
    "              max_depth =9,\n",
    "              min_samples_split=10,\n",
    "              min_samples_leaf=7,\n",
    "              max_features= 'log2')\n",
    "\n",
    "# Code task 80#\n",
    "# Fit the model\n",
    "gbc1.fit(X_train, y_train)"
   ]
  },
  {
   "cell_type": "markdown",
   "id": "d5332dd1-b411-46c9-b523-af3644390fa5",
   "metadata": {
    "id": "d5332dd1-b411-46c9-b523-af3644390fa5"
   },
   "source": [
    "### 5.5.3-3 Evaluate the model"
   ]
  },
  {
   "cell_type": "markdown",
   "id": "73b1913f-cc05-418a-bee7-a8ba35f4a023",
   "metadata": {
    "id": "73b1913f-cc05-418a-bee7-a8ba35f4a023"
   },
   "source": [
    "#### 5.5.3-3.1 Accuracy"
   ]
  },
  {
   "cell_type": "code",
   "execution_count": 38,
   "id": "c513d717-09c4-426f-97ee-9f4587a6c3f9",
   "metadata": {
    "id": "c513d717-09c4-426f-97ee-9f4587a6c3f9"
   },
   "outputs": [
    {
     "name": "stdout",
     "output_type": "stream",
     "text": [
      "0.9868697478991597\n"
     ]
    }
   ],
   "source": [
    "# Code task 81#\n",
    "# Use the score method to calculate the accuracy of the model\n",
    "accuracy_gbc = gbc1.score(X_test, y_test)\n",
    "print(accuracy_gbc)"
   ]
  },
  {
   "cell_type": "markdown",
   "id": "de7e783b-0025-4b9f-b1db-c0fab06f5928",
   "metadata": {
    "id": "de7e783b-0025-4b9f-b1db-c0fab06f5928"
   },
   "source": [
    "#### 5.5.3-3.4 Cross-Validation"
   ]
  },
  {
   "cell_type": "code",
   "execution_count": 39,
   "id": "8e59936b-0027-41e6-af55-87aab75e2b7d",
   "metadata": {
    "id": "8e59936b-0027-41e6-af55-87aab75e2b7d"
   },
   "outputs": [
    {
     "name": "stdout",
     "output_type": "stream",
     "text": [
      "[0.97951143 0.98423956 0.98266351 0.98502758 0.98501577 0.98817035]\n",
      "accuracy_train_gbc= 0.9841047000420112\n",
      "accuracy_test_gbc = 0.9868697478991597\n"
     ]
    }
   ],
   "source": [
    "# Code task 82#\n",
    "# Define the KFold Cross-Validation\n",
    "kf = KFold(n_splits=6, shuffle=True, random_state=42)\n",
    "\n",
    "# Code task 83#\n",
    "#Cross-Validation\n",
    "gradient_boostin_train_results = cross_val_score(gbc1, X_train_scaled, y_train, cv=kf, scoring='accuracy')\n",
    "accuracy_train_gbc = gradient_boostin_train_results.mean()\n",
    "\n",
    "# Code task 84#\n",
    "# Predict on the test set\n",
    "y_pred = gbc1.predict(X_test)\n",
    "\n",
    "# Code task 85#\n",
    "# Evaluate the model on the test set\n",
    "accuracy_test_gbc = accuracy_score(y_test, y_pred)\n",
    "\n",
    "# Code task 86#\n",
    "print(gradient_boostin_train_results)\n",
    "print(f'accuracy_train_gbc= {accuracy_train_gbc}')\n",
    "print(f'accuracy_test_gbc = {accuracy_test_gbc}')"
   ]
  },
  {
   "cell_type": "markdown",
   "id": "a99ecf9e-4048-49a6-9c72-c8eb9b237ea4",
   "metadata": {
    "id": "a99ecf9e-4048-49a6-9c72-c8eb9b237ea4"
   },
   "source": [
    "#### 5.5.3-3.2 Confusion Matrix"
   ]
  },
  {
   "cell_type": "code",
   "execution_count": 40,
   "id": "5eabd43f-7f52-4c19-a81c-50ff0aa80e16",
   "metadata": {
    "id": "5eabd43f-7f52-4c19-a81c-50ff0aa80e16"
   },
   "outputs": [
    {
     "data": {
      "image/png": "[encoded data removed]",
      "text/plain": [
       "<Figure size 1000x700 with 2 Axes>"
      ]
     },
     "metadata": {},
     "output_type": "display_data"
    },
    {
     "name": "stdout",
     "output_type": "stream",
     "text": [
      "[[470  17   0   0]\n",
      " [  8 486   0   0]\n",
      " [  0   0 478   0]\n",
      " [  0   0   0 445]]\n"
     ]
    }
   ],
   "source": [
    "# Code task 87#\n",
    "# Confusion Matrix\n",
    "cm= confusion_matrix(y_test, y_pred)\n",
    "\n",
    "# Code task 88#\n",
    "# Create a label encoder\n",
    "le1 = LabelEncoder()\n",
    "\n",
    "# Code task 89#\n",
    "# Fit and transform the labels\n",
    "df['LVT_encoded'] = le1.fit_transform(df['LTVCluster'])\n",
    "\n",
    "\n",
    "# Code task 90#\n",
    "plt.figure(figsize=(10, 7))\n",
    "sns.heatmap(cm, annot=True, fmt='d', cmap='Blues', xticklabels=le1.classes_, yticklabels=le1.classes_)\n",
    "plt.xlabel('Predicted')\n",
    "plt.ylabel('Actual')\n",
    "plt.title('Confusion Matrix')\n",
    "\n",
    "plt.show()\n",
    "print(confusion_matrix(y_test, y_pred))"
   ]
  },
  {
   "cell_type": "markdown",
   "id": "dd128ab6-de74-4d92-abc0-25e5f06cfef1",
   "metadata": {
    "id": "dd128ab6-de74-4d92-abc0-25e5f06cfef1"
   },
   "source": [
    "#### 5.5.3-3.3 Classification Report"
   ]
  },
  {
   "cell_type": "code",
   "execution_count": 41,
   "id": "f9a388ed-28d8-4486-a2c3-aee95dc77699",
   "metadata": {
    "id": "f9a388ed-28d8-4486-a2c3-aee95dc77699"
   },
   "outputs": [
    {
     "name": "stdout",
     "output_type": "stream",
     "text": [
      "              precision    recall  f1-score   support\n",
      "\n",
      "     Low_LVT       0.98      0.97      0.97       487\n",
      "     Med_LVT       0.97      0.98      0.97       494\n",
      "    High_LVT       1.00      1.00      1.00       478\n",
      "     Top_LVT       1.00      1.00      1.00       445\n",
      "\n",
      "    accuracy                           0.99      1904\n",
      "   macro avg       0.99      0.99      0.99      1904\n",
      "weighted avg       0.99      0.99      0.99      1904\n",
      "\n"
     ]
    }
   ],
   "source": [
    "# Code task 91#\n",
    "# Define the labels for the classification report\n",
    "class_labels = ['Low_LVT','Med_LVT','High_LVT','Top_LVT']\n",
    "\n",
    "# Code task 92#\n",
    "# Generate the classification report\n",
    "report = classification_report(y_test, y_pred, target_names=class_labels)\n",
    "print(report)\n"
   ]
  },
  {
   "cell_type": "markdown",
   "id": "cb9a6546-5f6a-4289-a64b-953c903669db",
   "metadata": {
    "id": "cb9a6546-5f6a-4289-a64b-953c903669db"
   },
   "source": [
    "## 5.6 Comparison of the models"
   ]
  },
  {
   "cell_type": "code",
   "execution_count": 42,
   "id": "e502ea9a-aef5-4c14-939a-c9bf37d36d79",
   "metadata": {
    "id": "e502ea9a-aef5-4c14-939a-c9bf37d36d79"
   },
   "outputs": [
    {
     "data": {
      "text/html": [
       "<div>\n",
       "<style scoped>\n",
       "    .dataframe tbody tr th:only-of-type {\n",
       "        vertical-align: middle;\n",
       "    }\n",
       "\n",
       "    .dataframe tbody tr th {\n",
       "        vertical-align: top;\n",
       "    }\n",
       "\n",
       "    .dataframe thead th {\n",
       "        text-align: right;\n",
       "    }\n",
       "</style>\n",
       "<table border=\"1\" class=\"dataframe\">\n",
       "  <thead>\n",
       "    <tr style=\"text-align: right;\">\n",
       "      <th></th>\n",
       "      <th>Model</th>\n",
       "      <th>Accuracy_train</th>\n",
       "      <th>Accuracy_test</th>\n",
       "      <th>Accuracy</th>\n",
       "    </tr>\n",
       "  </thead>\n",
       "  <tbody>\n",
       "    <tr>\n",
       "      <th>0</th>\n",
       "      <td>KNN</td>\n",
       "      <td>0.948898</td>\n",
       "      <td>0.949580</td>\n",
       "      <td>0.949580</td>\n",
       "    </tr>\n",
       "    <tr>\n",
       "      <th>1</th>\n",
       "      <td>Random Forest</td>\n",
       "      <td>0.982659</td>\n",
       "      <td>0.982143</td>\n",
       "      <td>0.982143</td>\n",
       "    </tr>\n",
       "    <tr>\n",
       "      <th>2</th>\n",
       "      <td>Gradient Boosting</td>\n",
       "      <td>0.984105</td>\n",
       "      <td>0.986870</td>\n",
       "      <td>0.986870</td>\n",
       "    </tr>\n",
       "  </tbody>\n",
       "</table>\n",
       "</div>"
      ],
      "text/plain": [
       "               Model  Accuracy_train  Accuracy_test  Accuracy\n",
       "0                KNN        0.948898       0.949580  0.949580\n",
       "1      Random Forest        0.982659       0.982143  0.982143\n",
       "2  Gradient Boosting        0.984105       0.986870  0.986870"
      ]
     },
     "execution_count": 42,
     "metadata": {},
     "output_type": "execute_result"
    }
   ],
   "source": [
    "# Code task 93#\n",
    "# Create lists of the performance of the three models\n",
    "models = ['KNN', 'Random Forest', 'Gradient Boosting']\n",
    "score_test= [accuracy_test_knn,accuracy_test_rf, accuracy_test_gbc]\n",
    "score_train =[accuracy_train_knn,accuracy_train_rf, accuracy_train_gbc]\n",
    "Accuracy_score = [accuracy_score_knn1, accuracy_rf, accuracy_gbc]\n",
    "\n",
    "# Code task 94#\n",
    "# Create a DataFrame of the performance of the three models\n",
    "score_tab = pd.DataFrame(list(zip(models, score_train, score_test,Accuracy_score)), columns =['Model','Accuracy_train','Accuracy_test','Accuracy'])\n",
    "\n",
    "# Code task 95#\n",
    "# Display the DataFrame\n",
    "score_tab"
   ]
  },
  {
   "cell_type": "markdown",
   "id": "3e397998-cf05-4196-ac28-91d7b1563d5f",
   "metadata": {
    "id": "3e397998-cf05-4196-ac28-91d7b1563d5f"
   },
   "source": [
    "## 5.7 Conclusion"
   ]
  },
  {
   "cell_type": "markdown",
   "id": "ab9d228a-ae60-4a8a-aa94-d0449ac1f960",
   "metadata": {
    "id": "ab9d228a-ae60-4a8a-aa94-d0449ac1f960"
   },
   "source": [
    "The Gradient Boosting model has the highest accuracy test and accuracy score. For this reason, we keep it as model to assess the Lifetime values of the customers.\n",
    "\n",
    "The performance of the model is :\n",
    "Accuracy: 98.6870%\n",
    "F1-Score: 0.99 globaly.\n",
    "\n",
    "The model left a place for improvement \n"
   ]
  },
  {
   "cell_type": "markdown",
   "id": "7e232c1b-0138-4c73-b152-be0966aa6bb3",
   "metadata": {
    "id": "7e232c1b-0138-4c73-b152-be0966aa6bb3"
   },
   "source": [
    "## END"
   ]
  }
 ],
 "metadata": {
  "colab": {
   "provenance": []
  },
  "kernelspec": {
   "display_name": "Python (myenv)",
   "language": "python",
   "name": "myenv"
  },
  "language_info": {
   "codemirror_mode": {
    "name": "ipython",
    "version": 3
   },
   "file_extension": ".py",
   "mimetype": "text/x-python",
   "name": "python",
   "nbconvert_exporter": "python",
   "pygments_lexer": "ipython3",
   "version": "3.8.19"
  }
 },
 "nbformat": 4,
 "nbformat_minor": 5
}
