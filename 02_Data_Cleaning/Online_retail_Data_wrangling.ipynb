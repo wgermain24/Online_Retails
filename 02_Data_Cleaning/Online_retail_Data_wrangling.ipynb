{
 "cells": [
  {
   "cell_type": "markdown",
   "id": "9c908fc3-d5e9-491f-a630-9fa9e67ff1ce",
   "metadata": {},
   "source": [
    "## 1 Problem Statement"
   ]
  },
  {
   "cell_type": "markdown",
   "id": "ba7c7e59-07c2-487c-8a75-a0157c4e2a03",
   "metadata": {},
   "source": [
    "\n",
    "Online Retail, a company specializing in e-commerce, recently invested a substantial portion of its revenue in an advertising campaign to boost brand and product awareness. Despite these efforts, the campaign achieved an acquisition response rate of only 3%, falling short of the anticipated 6%. Management suspects that the campaign's underperformance stemmed from its broad and costly approach, which failed to consider the diverse purchasing behaviors of customers.\n",
    "\n",
    "To improve outcomes, the company intends to focus future marketing efforts on customers most likely to drive revenue growth. With the next campaign scheduled in six months, management seeks to achieve the following objectives:\n",
    "\n",
    "- Customer Value Analysis: Assess the commercial value of each customer just before the campaign launch.\n",
    "- Customer Segmentation: Develop a segmentation strategy based on purchasing behaviors to identify key customer groups.\n",
    "- Marketing Enablement Tool: Equip the Marketing team with a tool to implement and sustain a targeted marketing strategy.\n",
    "- \n",
    "The Data Science team has been tasked with leading this project. They will collaborate with the Marketing team responsible for promotions, the Technology team, and a Management Committee representative. Although the company's database contains some data gaps due to past system migrations, it will serve as the foundation for this initiative.\n",
    "The success of this project will be evaluated based on the achievement of the targeted response rate of 6%, a key performance metric set by management.\n"
   ]
  },
  {
   "cell_type": "markdown",
   "id": "0c055246-b984-4904-be98-8c541ba8f61c",
   "metadata": {},
   "source": [
    "## 2.0 Import the common libraries"
   ]
  },
  {
   "cell_type": "code",
   "execution_count": 1,
   "id": "ab29384b-10e8-4d95-8b2d-1a3eb0352b1f",
   "metadata": {},
   "outputs": [],
   "source": [
    "# Code task 1#\n",
    "# Import the library needed for this project\n",
    "import pandas as pd\n",
    "import matplotlib.pyplot as plt\n",
    "import numpy as np\n",
    "import seaborn as sns\n",
    "import datetime as dt"
   ]
  },
  {
   "cell_type": "markdown",
   "id": "5ec7c2b1-2c8a-4d5a-ae28-5f67cf7647a7",
   "metadata": {},
   "source": [
    "## 3.0 Import the Data"
   ]
  },
  {
   "cell_type": "code",
   "execution_count": 2,
   "id": "4b934d93-f5f9-47f2-a71d-fa5d2822c972",
   "metadata": {},
   "outputs": [],
   "source": [
    "# Code task 2#\n",
    "# Load the raw data\n",
    "df = pd.read_csv('Online_Retail_Data_Set.csv', encoding='utf-8', encoding_errors='ignore')"
   ]
  },
  {
   "cell_type": "code",
   "execution_count": 3,
   "id": "cb537fd7-a18d-404d-adc5-69a6eb1db7b8",
   "metadata": {},
   "outputs": [
    {
     "name": "stdout",
     "output_type": "stream",
     "text": [
      "<class 'pandas.core.frame.DataFrame'>\n",
      "RangeIndex: 541909 entries, 0 to 541908\n",
      "Data columns (total 8 columns):\n",
      " #   Column       Non-Null Count   Dtype  \n",
      "---  ------       --------------   -----  \n",
      " 0   InvoiceNo    541909 non-null  object \n",
      " 1   StockCode    541909 non-null  object \n",
      " 2   Description  540455 non-null  object \n",
      " 3   Quantity     541909 non-null  int64  \n",
      " 4   InvoiceDate  541909 non-null  object \n",
      " 5   UnitPrice    541909 non-null  float64\n",
      " 6   CustomerID   406829 non-null  float64\n",
      " 7   Country      541909 non-null  object \n",
      "dtypes: float64(2), int64(1), object(5)\n",
      "memory usage: 33.1+ MB\n"
     ]
    }
   ],
   "source": [
    "# Code task 3#\n",
    "# Call the info method to see a summary of the data\n",
    "df.info()"
   ]
  },
  {
   "cell_type": "code",
   "execution_count": 4,
   "id": "52d8ba44-e7d2-4a67-b8f6-b826142c3d3f",
   "metadata": {},
   "outputs": [
    {
     "data": {
      "text/html": [
       "<div>\n",
       "<style scoped>\n",
       "    .dataframe tbody tr th:only-of-type {\n",
       "        vertical-align: middle;\n",
       "    }\n",
       "\n",
       "    .dataframe tbody tr th {\n",
       "        vertical-align: top;\n",
       "    }\n",
       "\n",
       "    .dataframe thead th {\n",
       "        text-align: right;\n",
       "    }\n",
       "</style>\n",
       "<table border=\"1\" class=\"dataframe\">\n",
       "  <thead>\n",
       "    <tr style=\"text-align: right;\">\n",
       "      <th></th>\n",
       "      <th>Quantity</th>\n",
       "      <th>UnitPrice</th>\n",
       "      <th>CustomerID</th>\n",
       "    </tr>\n",
       "  </thead>\n",
       "  <tbody>\n",
       "    <tr>\n",
       "      <th>count</th>\n",
       "      <td>541909.000000</td>\n",
       "      <td>541909.000000</td>\n",
       "      <td>406829.000000</td>\n",
       "    </tr>\n",
       "    <tr>\n",
       "      <th>mean</th>\n",
       "      <td>9.552250</td>\n",
       "      <td>4.611114</td>\n",
       "      <td>15287.690570</td>\n",
       "    </tr>\n",
       "    <tr>\n",
       "      <th>std</th>\n",
       "      <td>218.081158</td>\n",
       "      <td>96.759853</td>\n",
       "      <td>1713.600303</td>\n",
       "    </tr>\n",
       "    <tr>\n",
       "      <th>min</th>\n",
       "      <td>-80995.000000</td>\n",
       "      <td>-11062.060000</td>\n",
       "      <td>12346.000000</td>\n",
       "    </tr>\n",
       "    <tr>\n",
       "      <th>25%</th>\n",
       "      <td>1.000000</td>\n",
       "      <td>1.250000</td>\n",
       "      <td>13953.000000</td>\n",
       "    </tr>\n",
       "    <tr>\n",
       "      <th>50%</th>\n",
       "      <td>3.000000</td>\n",
       "      <td>2.080000</td>\n",
       "      <td>15152.000000</td>\n",
       "    </tr>\n",
       "    <tr>\n",
       "      <th>75%</th>\n",
       "      <td>10.000000</td>\n",
       "      <td>4.130000</td>\n",
       "      <td>16791.000000</td>\n",
       "    </tr>\n",
       "    <tr>\n",
       "      <th>max</th>\n",
       "      <td>80995.000000</td>\n",
       "      <td>38970.000000</td>\n",
       "      <td>18287.000000</td>\n",
       "    </tr>\n",
       "  </tbody>\n",
       "</table>\n",
       "</div>"
      ],
      "text/plain": [
       "            Quantity      UnitPrice     CustomerID\n",
       "count  541909.000000  541909.000000  406829.000000\n",
       "mean        9.552250       4.611114   15287.690570\n",
       "std       218.081158      96.759853    1713.600303\n",
       "min    -80995.000000  -11062.060000   12346.000000\n",
       "25%         1.000000       1.250000   13953.000000\n",
       "50%         3.000000       2.080000   15152.000000\n",
       "75%        10.000000       4.130000   16791.000000\n",
       "max     80995.000000   38970.000000   18287.000000"
      ]
     },
     "execution_count": 4,
     "metadata": {},
     "output_type": "execute_result"
    }
   ],
   "source": [
    "# Code task 4#\n",
    "# Call on the describe method to see some statistics related to the data\n",
    "df.describe()"
   ]
  },
  {
   "cell_type": "code",
   "execution_count": 5,
   "id": "2a6000ac-3cef-4aed-ba5e-199f7c95e9ee",
   "metadata": {},
   "outputs": [
    {
     "data": {
      "text/html": [
       "<div>\n",
       "<style scoped>\n",
       "    .dataframe tbody tr th:only-of-type {\n",
       "        vertical-align: middle;\n",
       "    }\n",
       "\n",
       "    .dataframe tbody tr th {\n",
       "        vertical-align: top;\n",
       "    }\n",
       "\n",
       "    .dataframe thead th {\n",
       "        text-align: right;\n",
       "    }\n",
       "</style>\n",
       "<table border=\"1\" class=\"dataframe\">\n",
       "  <thead>\n",
       "    <tr style=\"text-align: right;\">\n",
       "      <th></th>\n",
       "      <th>InvoiceNo</th>\n",
       "      <th>StockCode</th>\n",
       "      <th>Description</th>\n",
       "      <th>Quantity</th>\n",
       "      <th>InvoiceDate</th>\n",
       "      <th>UnitPrice</th>\n",
       "      <th>CustomerID</th>\n",
       "      <th>Country</th>\n",
       "    </tr>\n",
       "  </thead>\n",
       "  <tbody>\n",
       "    <tr>\n",
       "      <th>0</th>\n",
       "      <td>536365</td>\n",
       "      <td>85123A</td>\n",
       "      <td>WHITE HANGING HEART T-LIGHT HOLDER</td>\n",
       "      <td>6</td>\n",
       "      <td>01/12/2010 8:26</td>\n",
       "      <td>2.55</td>\n",
       "      <td>17850.0</td>\n",
       "      <td>United Kingdom</td>\n",
       "    </tr>\n",
       "    <tr>\n",
       "      <th>1</th>\n",
       "      <td>536365</td>\n",
       "      <td>71053</td>\n",
       "      <td>WHITE METAL LANTERN</td>\n",
       "      <td>6</td>\n",
       "      <td>01/12/2010 8:26</td>\n",
       "      <td>3.39</td>\n",
       "      <td>17850.0</td>\n",
       "      <td>United Kingdom</td>\n",
       "    </tr>\n",
       "    <tr>\n",
       "      <th>2</th>\n",
       "      <td>536365</td>\n",
       "      <td>84406B</td>\n",
       "      <td>CREAM CUPID HEARTS COAT HANGER</td>\n",
       "      <td>8</td>\n",
       "      <td>01/12/2010 8:26</td>\n",
       "      <td>2.75</td>\n",
       "      <td>17850.0</td>\n",
       "      <td>United Kingdom</td>\n",
       "    </tr>\n",
       "    <tr>\n",
       "      <th>3</th>\n",
       "      <td>536365</td>\n",
       "      <td>84029G</td>\n",
       "      <td>KNITTED UNION FLAG HOT WATER BOTTLE</td>\n",
       "      <td>6</td>\n",
       "      <td>01/12/2010 8:26</td>\n",
       "      <td>3.39</td>\n",
       "      <td>17850.0</td>\n",
       "      <td>United Kingdom</td>\n",
       "    </tr>\n",
       "    <tr>\n",
       "      <th>4</th>\n",
       "      <td>536365</td>\n",
       "      <td>84029E</td>\n",
       "      <td>RED WOOLLY HOTTIE WHITE HEART.</td>\n",
       "      <td>6</td>\n",
       "      <td>01/12/2010 8:26</td>\n",
       "      <td>3.39</td>\n",
       "      <td>17850.0</td>\n",
       "      <td>United Kingdom</td>\n",
       "    </tr>\n",
       "  </tbody>\n",
       "</table>\n",
       "</div>"
      ],
      "text/plain": [
       "  InvoiceNo StockCode                          Description  Quantity  \\\n",
       "0    536365    85123A   WHITE HANGING HEART T-LIGHT HOLDER         6   \n",
       "1    536365     71053                  WHITE METAL LANTERN         6   \n",
       "2    536365    84406B       CREAM CUPID HEARTS COAT HANGER         8   \n",
       "3    536365    84029G  KNITTED UNION FLAG HOT WATER BOTTLE         6   \n",
       "4    536365    84029E       RED WOOLLY HOTTIE WHITE HEART.         6   \n",
       "\n",
       "       InvoiceDate  UnitPrice  CustomerID         Country  \n",
       "0  01/12/2010 8:26       2.55     17850.0  United Kingdom  \n",
       "1  01/12/2010 8:26       3.39     17850.0  United Kingdom  \n",
       "2  01/12/2010 8:26       2.75     17850.0  United Kingdom  \n",
       "3  01/12/2010 8:26       3.39     17850.0  United Kingdom  \n",
       "4  01/12/2010 8:26       3.39     17850.0  United Kingdom  "
      ]
     },
     "execution_count": 5,
     "metadata": {},
     "output_type": "execute_result"
    }
   ],
   "source": [
    "# Code task 5#\n",
    "# Call the head method\n",
    "df.head()"
   ]
  },
  {
   "cell_type": "markdown",
   "id": "5a7fc712-c4ed-46a0-be60-ecbed137f698",
   "metadata": {},
   "source": [
    "## 4.0 Exploring the Data"
   ]
  },
  {
   "cell_type": "markdown",
   "id": "62ee8bbf-893d-40d5-86c2-9d74d37a80b4",
   "metadata": {},
   "source": [
    "### 4.1 Identifying Missing Values and Cleaning"
   ]
  },
  {
   "cell_type": "markdown",
   "id": "b6db3df3-71ba-4d6d-b794-4388351d5021",
   "metadata": {},
   "source": [
    "#### 4.1.1 Number of missing values by column"
   ]
  },
  {
   "cell_type": "code",
   "execution_count": 6,
   "id": "38f26407-63f9-453e-8209-d5e7808484a6",
   "metadata": {},
   "outputs": [
    {
     "data": {
      "text/html": [
       "<div>\n",
       "<style scoped>\n",
       "    .dataframe tbody tr th:only-of-type {\n",
       "        vertical-align: middle;\n",
       "    }\n",
       "\n",
       "    .dataframe tbody tr th {\n",
       "        vertical-align: top;\n",
       "    }\n",
       "\n",
       "    .dataframe thead th {\n",
       "        text-align: right;\n",
       "    }\n",
       "</style>\n",
       "<table border=\"1\" class=\"dataframe\">\n",
       "  <thead>\n",
       "    <tr style=\"text-align: right;\">\n",
       "      <th></th>\n",
       "      <th>count</th>\n",
       "      <th>%</th>\n",
       "    </tr>\n",
       "  </thead>\n",
       "  <tbody>\n",
       "    <tr>\n",
       "      <th>CustomerID</th>\n",
       "      <td>135080</td>\n",
       "      <td>24.926694</td>\n",
       "    </tr>\n",
       "    <tr>\n",
       "      <th>Description</th>\n",
       "      <td>1454</td>\n",
       "      <td>0.268311</td>\n",
       "    </tr>\n",
       "    <tr>\n",
       "      <th>InvoiceNo</th>\n",
       "      <td>0</td>\n",
       "      <td>0.000000</td>\n",
       "    </tr>\n",
       "    <tr>\n",
       "      <th>StockCode</th>\n",
       "      <td>0</td>\n",
       "      <td>0.000000</td>\n",
       "    </tr>\n",
       "    <tr>\n",
       "      <th>Quantity</th>\n",
       "      <td>0</td>\n",
       "      <td>0.000000</td>\n",
       "    </tr>\n",
       "    <tr>\n",
       "      <th>InvoiceDate</th>\n",
       "      <td>0</td>\n",
       "      <td>0.000000</td>\n",
       "    </tr>\n",
       "    <tr>\n",
       "      <th>UnitPrice</th>\n",
       "      <td>0</td>\n",
       "      <td>0.000000</td>\n",
       "    </tr>\n",
       "    <tr>\n",
       "      <th>Country</th>\n",
       "      <td>0</td>\n",
       "      <td>0.000000</td>\n",
       "    </tr>\n",
       "  </tbody>\n",
       "</table>\n",
       "</div>"
      ],
      "text/plain": [
       "              count          %\n",
       "CustomerID   135080  24.926694\n",
       "Description    1454   0.268311\n",
       "InvoiceNo         0   0.000000\n",
       "StockCode         0   0.000000\n",
       "Quantity          0   0.000000\n",
       "InvoiceDate       0   0.000000\n",
       "UnitPrice         0   0.000000\n",
       "Country           0   0.000000"
      ]
     },
     "execution_count": 6,
     "metadata": {},
     "output_type": "execute_result"
    }
   ],
   "source": [
    "# Code task 5#\n",
    "#Count the number of missing value in each column using 'sum()' as well as the percentages using 'mean()'\n",
    "#Order them using sort_values\n",
    "#Call pd.concat to present these in a single DataFrame\n",
    "missing = pd.concat([df.isnull().sum(), 100 * df.isnull().mean()], axis=1)\n",
    "missing.columns = ['count', '%']\n",
    "missing.sort_values(by='%', ascending=False)\n"
   ]
  },
  {
   "cell_type": "raw",
   "id": "69bb2963-b476-4899-a734-c9758dc84302",
   "metadata": {},
   "source": [
    "Our study primarily focuses on analyzing customer behavior. A crucial element for this analysis is the unique identifier that allows us to distinctly recognize each customer. Consequently, any record lacking this information will be deemed unusable and will be removed from the dataset."
   ]
  },
  {
   "cell_type": "markdown",
   "id": "bf00b4b7-3394-4396-bf3e-433423f13af3",
   "metadata": {},
   "source": [
    "### 4.2 Format Columns Appropriately"
   ]
  },
  {
   "cell_type": "markdown",
   "id": "68b900e5-d512-4ecf-893e-74469eae6acb",
   "metadata": {},
   "source": [
    "#### 4.2.1 Convert the column 'InvoiceDate' in a datetime format"
   ]
  },
  {
   "cell_type": "code",
   "execution_count": 7,
   "id": "97a3bb71-8128-44db-9b66-6866b8cf7281",
   "metadata": {},
   "outputs": [],
   "source": [
    "# Code task 6#\n",
    "#Convert InvoiceDate in a datetime format\n",
    "df['InvoiceDate']= pd.to_datetime(df['InvoiceDate'], dayfirst=True)"
   ]
  },
  {
   "cell_type": "code",
   "execution_count": 8,
   "id": "f976c4f8-d54a-4fbb-b27b-5bcc9602b930",
   "metadata": {},
   "outputs": [
    {
     "name": "stdout",
     "output_type": "stream",
     "text": [
      "InvoiceNo              object\n",
      "StockCode              object\n",
      "Description            object\n",
      "Quantity                int64\n",
      "InvoiceDate    datetime64[ns]\n",
      "UnitPrice             float64\n",
      "CustomerID            float64\n",
      "Country                object\n",
      "dtype: object\n"
     ]
    }
   ],
   "source": [
    "# Code task 7#\n",
    "#Check on the format shift of the InvoiceDate\n",
    "print(df.dtypes)"
   ]
  },
  {
   "cell_type": "markdown",
   "id": "9ecdbcc6-5737-4016-9ee7-ff329a9ef011",
   "metadata": {},
   "source": [
    "#### 4.2.2 Convert the column 'Country' into categorical format"
   ]
  },
  {
   "cell_type": "code",
   "execution_count": 9,
   "id": "47c109fd-b2ee-452d-87f7-29d300cb1d66",
   "metadata": {},
   "outputs": [
    {
     "name": "stdout",
     "output_type": "stream",
     "text": [
      "InvoiceNo              object\n",
      "StockCode              object\n",
      "Description            object\n",
      "Quantity                int64\n",
      "InvoiceDate    datetime64[ns]\n",
      "UnitPrice             float64\n",
      "CustomerID            float64\n",
      "Country              category\n",
      "dtype: object\n"
     ]
    }
   ],
   "source": [
    "# Code task 8#\n",
    "# Convert the column 'Country' into categorical format\n",
    "df['Country'] = df['Country'].astype('category')\n",
    "print(df.dtypes)"
   ]
  },
  {
   "cell_type": "code",
   "execution_count": 10,
   "id": "baf79332-4df4-42f5-bb6a-3ccc677f68a4",
   "metadata": {},
   "outputs": [
    {
     "name": "stdout",
     "output_type": "stream",
     "text": [
      "38\n",
      "United Kingdom\n",
      "France\n",
      "Australia\n",
      "Netherlands\n",
      "Germany\n",
      "Norway\n",
      "EIRE\n",
      "Switzerland\n",
      "Spain\n",
      "Poland\n",
      "Portugal\n",
      "Italy\n",
      "Belgium\n",
      "Lithuania\n",
      "Japan\n",
      "Iceland\n",
      "Channel Islands\n",
      "Denmark\n",
      "Cyprus\n",
      "Sweden\n",
      "Austria\n",
      "Israel\n",
      "Finland\n",
      "Bahrain\n",
      "Greece\n",
      "Hong Kong\n",
      "Singapore\n",
      "Lebanon\n",
      "United Arab Emirates\n",
      "Saudi Arabia\n",
      "Czech Republic\n",
      "Canada\n",
      "Unspecified\n",
      "Brazil\n",
      "USA\n",
      "European Community\n",
      "Malta\n",
      "RSA\n"
     ]
    }
   ],
   "source": [
    "# Code task 9# \n",
    "# Number of Countries Where the company sells its products\n",
    "print(df['Country'].nunique())\n",
    "\n",
    "# Code task 10#\n",
    "# Countries Where the company Sells its Products\n",
    "for country in df['Country'].unique():\n",
    "     print(country)"
   ]
  },
  {
   "cell_type": "markdown",
   "id": "29da432e-abee-4eee-929c-5893c3e3b675",
   "metadata": {},
   "source": [
    "#### 4.2.3 Column InvoiceNo\n",
    "We choose to keep the InvoiceNo column as an object data type since we do not intend to perform any calculations with it."
   ]
  },
  {
   "cell_type": "markdown",
   "id": "b3230e1c-b278-4231-ad32-1b1309f3c145",
   "metadata": {},
   "source": [
    "### 4.3 Clarify Column Labels and Their Contents"
   ]
  },
  {
   "cell_type": "markdown",
   "id": "abe39ae4-e3ff-4c1a-a28d-5bab76614da0",
   "metadata": {},
   "source": [
    "#### 4.3.1 Label European Country"
   ]
  },
  {
   "cell_type": "markdown",
   "id": "f6ff072b-9ddc-417f-a166-02ff05570c13",
   "metadata": {},
   "source": [
    "France, the Netherlands, Germany, Spain, Poland, Portugal, Italy, Belgium, Lithuania, Denmark, Cyprus, Sweden, Austria, Finland, Greece, the Czech Republic, and Malta are members of the European Community. Including 'European Community' in the list of countries alongside these nations is therefore inappropriate. Let's estimate the number of customers affected by this condition."
   ]
  },
  {
   "cell_type": "code",
   "execution_count": 11,
   "id": "03c6c5fd-1a10-4c04-af3b-354edf06b6ba",
   "metadata": {},
   "outputs": [
    {
     "data": {
      "text/plain": [
       "1"
      ]
     },
     "execution_count": 11,
     "metadata": {},
     "output_type": "execute_result"
    }
   ],
   "source": [
    "# Code task 11#\n",
    "#Extract Customers Located in the European Community from the Dataset\n",
    "df_European_Community = df[df['Country']=='European Community']\n",
    "\n",
    "# Code task 12# \n",
    "# Count the number of unique customers from the European Community\n",
    "df_European_Community.CustomerID.nunique()"
   ]
  },
  {
   "cell_type": "code",
   "execution_count": 12,
   "id": "bd72ef0a-2d95-4ecd-9b36-c53d972b50cd",
   "metadata": {},
   "outputs": [
    {
     "data": {
      "text/plain": [
       "array([15108.])"
      ]
     },
     "execution_count": 12,
     "metadata": {},
     "output_type": "execute_result"
    }
   ],
   "source": [
    "# Code task 13#\n",
    "# CustomerID of the customer from the European Community\n",
    "df_European_Community['CustomerID'].unique()"
   ]
  },
  {
   "cell_type": "markdown",
   "id": "61ff97a2-65bb-42d5-bc31-4f398f308fb1",
   "metadata": {},
   "source": [
    "###### There is only one customer. We will replace the label in the 'European Community' column with 'Other European Country'."
   ]
  },
  {
   "cell_type": "markdown",
   "id": "6d182e22-c93a-4bc4-8946-39de59597769",
   "metadata": {},
   "source": [
    "#### 4.3.2 Standardization of labels"
   ]
  },
  {
   "cell_type": "markdown",
   "id": "c9f33c98-98b9-45d4-a836-47426e524a80",
   "metadata": {},
   "source": [
    "To maintain uniformity in the Country column, we will replace the following abbreviations:\n",
    "\n",
    "USA = United States\n",
    "\n",
    "RSA = Republic of South Africa"
   ]
  },
  {
   "cell_type": "code",
   "execution_count": 13,
   "id": "b80fe7c2-cc86-4635-80cb-61e87a7d7331",
   "metadata": {},
   "outputs": [
    {
     "data": {
      "text/plain": [
       "['United Kingdom', 'France', 'Australia', 'Netherlands', 'Germany', ..., 'Brazil', 'United States', 'Other European Country', 'Malta', 'Republic of South Africa']\n",
       "Length: 38\n",
       "Categories (38, object): ['Australia', 'Austria', 'Bahrain', 'Belgium', ..., 'United States', 'United Arab Emirates', 'United Kingdom', 'Unspecified']"
      ]
     },
     "execution_count": 13,
     "metadata": {},
     "output_type": "execute_result"
    }
   ],
   "source": [
    "# Code task 14#\n",
    "# Change the labels of some contents in 'Country' column\n",
    "df['Country'] = df['Country'].replace ({'European Community' : 'Other European Country',\\\n",
    "                                        'USA' : 'United States', \\\n",
    "                                        'RSA': 'Republic of South Africa'})\n",
    "# Code task 15#\n",
    "#Check on the modification\n",
    "df.Country.unique()"
   ]
  },
  {
   "cell_type": "markdown",
   "id": "fc2d8b5f-f84a-4d6e-936b-aba2e0d809a5",
   "metadata": {},
   "source": [
    "### 4.4 Adding some columns to future analyse"
   ]
  },
  {
   "cell_type": "markdown",
   "id": "743ccebd-1b0c-4a10-bf0c-2d817df297c9",
   "metadata": {},
   "source": [
    "#### 4.3.1 Decompose the InvoiceDate column into Year, Month, and Day to facilitate analysis across different time scales."
   ]
  },
  {
   "cell_type": "code",
   "execution_count": 14,
   "id": "171cbaaf-e1b5-43ba-b974-3b01da889f6d",
   "metadata": {},
   "outputs": [
    {
     "data": {
      "text/plain": [
       "Index(['InvoiceNo', 'StockCode', 'Description', 'Quantity', 'InvoiceDate',\n",
       "       'UnitPrice', 'CustomerID', 'Country', 'Month', 'Year', 'Day'],\n",
       "      dtype='object')"
      ]
     },
     "execution_count": 14,
     "metadata": {},
     "output_type": "execute_result"
    }
   ],
   "source": [
    "# Code task 9#\n",
    "# Insert columns 'Year', 'Month','Day' in the DataFrane\n",
    "df['Month'] =df['InvoiceDate'].dt.month\n",
    "df['Year'] = df['InvoiceDate'].dt.year\n",
    "df['Day'] = df['InvoiceDate'].dt.day\n",
    "\n",
    "# Code task 10#\n",
    "# Check on the changes\n",
    "df.columns"
   ]
  },
  {
   "cell_type": "markdown",
   "id": "20ce71db-4b3f-43da-b4a0-7737d81acb2b",
   "metadata": {},
   "source": [
    "#### 4.3.2 Insert a new column : Revenue"
   ]
  },
  {
   "cell_type": "markdown",
   "id": "491b9465-9aa3-4b41-8e9b-17e29bf02c23",
   "metadata": {},
   "source": [
    "The primary indicator of the company's performance is its profitability. Although this metric is not present in the original dataset, it can be calculated using the formula: Revenue = Quantity × Unit Price."
   ]
  },
  {
   "cell_type": "code",
   "execution_count": 15,
   "id": "f94010b6-9233-4f74-b12b-9af8cd8cde64",
   "metadata": {},
   "outputs": [
    {
     "data": {
      "text/plain": [
       "Index(['InvoiceNo', 'StockCode', 'Description', 'Quantity', 'InvoiceDate',\n",
       "       'UnitPrice', 'CustomerID', 'Country', 'Month', 'Year', 'Day',\n",
       "       'Revenue'],\n",
       "      dtype='object')"
      ]
     },
     "execution_count": 15,
     "metadata": {},
     "output_type": "execute_result"
    }
   ],
   "source": [
    "# Code task 10#\n",
    "#Calculate Revenue for each customer \n",
    "df['Revenue'] = df['Quantity']*df['UnitPrice']\n",
    "\n",
    "# Code task 11#\n",
    "# Check on the change\n",
    "df.columns"
   ]
  },
  {
   "cell_type": "markdown",
   "id": "59c2cfc7-21e3-4664-9581-93b2fd7dd5f2",
   "metadata": {},
   "source": [
    "#### 4.3.3 Insert a column 'Continent'"
   ]
  },
  {
   "cell_type": "code",
   "execution_count": 16,
   "id": "839e6333-aacb-479f-8fa6-ed1a1dc4339d",
   "metadata": {},
   "outputs": [
    {
     "name": "stdout",
     "output_type": "stream",
     "text": [
      "               Country Continent\n",
      "0       United Kingdom    Europe\n",
      "1       United Kingdom    Europe\n",
      "2       United Kingdom    Europe\n",
      "3       United Kingdom    Europe\n",
      "4       United Kingdom    Europe\n",
      "...                ...       ...\n",
      "541904          France    Europe\n",
      "541905          France    Europe\n",
      "541906          France    Europe\n",
      "541907          France    Europe\n",
      "541908          France    Europe\n",
      "\n",
      "[541909 rows x 2 columns]\n"
     ]
    }
   ],
   "source": [
    "# Code task 12#\n",
    "# Define a dictionary mapping countries to continents\n",
    "country_to_continent = {\n",
    "    'United Kingdom': 'Europe',\n",
    "    'France': 'Europe',\n",
    "    'Australia': 'Oceania',\n",
    "    'Netherlands': 'Europe',\n",
    "    'Germany': 'Europe',\n",
    "    'Norway': 'Europe',\n",
    "    'EIRE': 'Europe',\n",
    "    'Switzerland': 'Europe',\n",
    "    'Spain': 'Europe',\n",
    "    'Poland': 'Europe',\n",
    "    'Portugal': 'Europe',\n",
    "    'Italy': 'Europe',\n",
    "    'Belgium': 'Europe',\n",
    "    'Lithuania': 'Europe',\n",
    "    'Japan': 'Asia',\n",
    "    'Iceland': 'Europe',\n",
    "    'Channel Islands': 'Europe',\n",
    "    'Denmark': 'Europe',\n",
    "    'Cyprus': 'Europe',\n",
    "    'Sweden': 'Europe',\n",
    "    'Austria': 'Europe',\n",
    "    'Israel': 'Asia',\n",
    "    'Finland': 'Europe',\n",
    "    'Bahrain': 'Asia',\n",
    "    'Greece': 'Europe',\n",
    "    'Hong Kong': 'Asia',\n",
    "    'Singapore': 'Asia',\n",
    "    'Lebanon': 'Asia',\n",
    "    'United Arab Emirates': 'Asia',\n",
    "    'Saudi Arabia': 'Asia',\n",
    "    'Czech Republic': 'Europe',\n",
    "    'Canada': 'North America',\n",
    "    'Unspecified': 'Unspecified',\n",
    "    'Brazil': 'South America',\n",
    "    'United States': 'North America',\n",
    "    'Other European Country': 'Europe',\n",
    "    'Malta': 'Europe',\n",
    "    'Republic of South Africa': 'Africa'\n",
    "}\n",
    "\n",
    "# Code task 13#\n",
    "# Add a new column 'Continent' to the DataFrame\n",
    "df['Continent'] = df['Country'].map(country_to_continent)\n",
    "\n",
    "# Code task \n",
    "# Verify the changes\n",
    "print(df[['Country','Continent']])\n"
   ]
  },
  {
   "cell_type": "markdown",
   "id": "70e46028-2d7f-41e6-a43c-6e2f7e5b9c4f",
   "metadata": {},
   "source": [
    "### 4.4 Remove rows without CustomerID"
   ]
  },
  {
   "cell_type": "code",
   "execution_count": 17,
   "id": "e739cae7-f7d2-417b-8716-7f6f77340098",
   "metadata": {},
   "outputs": [
    {
     "name": "stdout",
     "output_type": "stream",
     "text": [
      "<class 'pandas.core.frame.DataFrame'>\n",
      "Index: 406829 entries, 0 to 541908\n",
      "Data columns (total 13 columns):\n",
      " #   Column       Non-Null Count   Dtype         \n",
      "---  ------       --------------   -----         \n",
      " 0   InvoiceNo    406829 non-null  object        \n",
      " 1   StockCode    406829 non-null  object        \n",
      " 2   Description  406829 non-null  object        \n",
      " 3   Quantity     406829 non-null  int64         \n",
      " 4   InvoiceDate  406829 non-null  datetime64[ns]\n",
      " 5   UnitPrice    406829 non-null  float64       \n",
      " 6   CustomerID   406829 non-null  float64       \n",
      " 7   Country      406829 non-null  category      \n",
      " 8   Month        406829 non-null  int32         \n",
      " 9   Year         406829 non-null  int32         \n",
      " 10  Day          406829 non-null  int32         \n",
      " 11  Revenue      406829 non-null  float64       \n",
      " 12  Continent    406829 non-null  object        \n",
      "dtypes: category(1), datetime64[ns](1), float64(3), int32(3), int64(1), object(4)\n",
      "memory usage: 36.1+ MB\n"
     ]
    }
   ],
   "source": [
    "df = df.dropna(subset=['CustomerID'])\n",
    "df.info()"
   ]
  },
  {
   "cell_type": "markdown",
   "id": "5fed2e34-b5d6-4558-9ae0-b7aefc0fae72",
   "metadata": {},
   "source": [
    "## 5.0 Save the Clean Data"
   ]
  },
  {
   "cell_type": "code",
   "execution_count": 18,
   "id": "49721193-f8e7-43c3-8e82-1b765c569cc7",
   "metadata": {},
   "outputs": [],
   "source": [
    "df.to_csv('C:/Users/wgerm/OneDrive/Documents/GitHub/Capstone 3/Online_Retail_Dataset/df_clean.csv', index=False)"
   ]
  },
  {
   "cell_type": "markdown",
   "id": "5e969031-c397-4b80-b067-f84713e7abb8",
   "metadata": {},
   "source": [
    "## 6.0 Summary\n",
    "\n",
    "The Online_retail dataset imported from Kaggle underwent the following modifications to prepare it for analysis:\n",
    "\n",
    "- 135,079 rows without a unique customer identifier were removed, reducing the dataset from 541,908 rows to 406,829 rows.\n",
    "\n",
    "- The data types of the following columns were modified:\n",
    "\n",
    "    . InvoiceDate: from object to datetime64[ns]\n",
    "\n",
    "    . Country: from object to category\n",
    "\n",
    "- Five new columns were added: Month, Year, Day, Revenue, and Continent.\n",
    "\n",
    "- Corrections were made to the labels of cities and the Country column.\n",
    "\n",
    "As a result, the dataset dimensions changed from 541,908 x 7 to a clean dataset of 406,829 x 12, ready for analysis."
   ]
  },
  {
   "cell_type": "markdown",
   "id": "e7910cc2-2d3d-4b39-81d0-6cfdf65e59db",
   "metadata": {},
   "source": [
    "## FIN"
   ]
  }
 ],
 "metadata": {
  "kernelspec": {
   "display_name": "Python (myenv)",
   "language": "python",
   "name": "myenv"
  },
  "language_info": {
   "codemirror_mode": {
    "name": "ipython",
    "version": 3
   },
   "file_extension": ".py",
   "mimetype": "text/x-python",
   "name": "python",
   "nbconvert_exporter": "python",
   "pygments_lexer": "ipython3",
   "version": "3.8.19"
  }
 },
 "nbformat": 4,
 "nbformat_minor": 5
}
